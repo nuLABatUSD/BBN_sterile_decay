{
 "cells": [
  {
   "cell_type": "code",
   "execution_count": 1,
   "metadata": {},
   "outputs": [],
   "source": [
    "import subprocess\n",
    "import numpy as np\n",
    "import matplotlib.pyplot as plt"
   ]
  },
  {
   "cell_type": "code",
   "execution_count": 2,
   "metadata": {},
   "outputs": [
    {
     "name": "stdout",
     "output_type": "stream",
     "text": [
      "\n",
      "make: Circular alter_vs.c <- alter_vs.c dependency dropped.\n",
      "\n"
     ]
    }
   ],
   "source": [
    "# enter your file directory for alterbbn_v2.2 \n",
    "run_directory_new = 'C:/Users/kathr/Chad_Research_Neutrinos/alterbbn_v2.2/alter_vs.x'\n",
    "\n",
    "directory_new = 'C:/Users/kathr/Chad_Research_Neutrinos/alterbbn_v2.2'\n",
    "\n",
    "ch = subprocess.run(['make','-C', directory_new, 'clean'], capture_output = True, text = True, shell = True)\n",
    "sh = subprocess.run(['make', '-C', directory_new, 'alter_vs.c'], capture_output = True, text = True, shell = True)\n",
    "print(ch.stderr)\n",
    "print(sh.stderr)"
   ]
  },
  {
   "cell_type": "code",
   "execution_count": 4,
   "metadata": {},
   "outputs": [
    {
     "name": "stdout",
     "output_type": "stream",
     "text": [
      "['', ' Yp', '', ' H2/H', '', ' He3/H', '', ' Li7/H', '', ' Li6/H', '', ' Be7/H\\ncent:', ' 4.793e-02', ' 1.299e-04', ' 1.399e-05', ' 3.277e-11', ' 1.163e-14', ' 1.709e-11\\n']\n"
     ]
    }
   ],
   "source": [
    "d_new = subprocess.run([run_directory_new, '14.87365053664758', '6.1e-10', '1', '255', '104.56255360706342', '300', '7e-05'], capture_output = True, text = True, shell = True)\n",
    "#print('this is subprocess error: {}'.format(d_new.stderr))\n",
    "x_new = d_new.stdout\n",
    "#print('this is stdout: {}'.format(x_new))\n",
    "s_new = x_new.split('\\t')\n",
    "print(s_new)\n",
    "#print('this is completed process note: {}'.format(d_new))"
   ]
  },
  {
   "cell_type": "code",
   "execution_count": null,
   "metadata": {},
   "outputs": [],
   "source": []
  }
 ],
 "metadata": {
  "kernelspec": {
   "display_name": "Python 3",
   "language": "python",
   "name": "python3"
  },
  "language_info": {
   "codemirror_mode": {
    "name": "ipython",
    "version": 3
   },
   "file_extension": ".py",
   "mimetype": "text/x-python",
   "name": "python",
   "nbconvert_exporter": "python",
   "pygments_lexer": "ipython3",
   "version": "3.7.6"
  }
 },
 "nbformat": 4,
 "nbformat_minor": 4
}
