{
 "cells": [
  {
   "cell_type": "code",
   "execution_count": 1,
   "metadata": {},
   "outputs": [],
   "source": [
    "import subprocess\n",
    "import numpy as np\n",
    "import matplotlib.pyplot as plt"
   ]
  },
  {
   "cell_type": "markdown",
   "metadata": {},
   "source": [
    "## Starting Example"
   ]
  },
  {
   "cell_type": "code",
   "execution_count": 14,
   "metadata": {},
   "outputs": [],
   "source": [
    "result = subprocess.run(['C:/Users/kathr/Downloads/alterbbn_v2.2/stand_cosmo.x', '3'], capture_output = True, text = True)"
   ]
  },
  {
   "cell_type": "code",
   "execution_count": 15,
   "metadata": {},
   "outputs": [],
   "source": [
    "#print(result.stdout)"
   ]
  },
  {
   "cell_type": "code",
   "execution_count": 16,
   "metadata": {},
   "outputs": [],
   "source": [
    "result_str = result.stdout"
   ]
  },
  {
   "cell_type": "code",
   "execution_count": 17,
   "metadata": {},
   "outputs": [],
   "source": [
    "result_splt = result_str.split('\\t')"
   ]
  },
  {
   "cell_type": "code",
   "execution_count": 18,
   "metadata": {},
   "outputs": [
    {
     "data": {
      "text/plain": [
       "' 2.474e-01'"
      ]
     },
     "execution_count": 18,
     "metadata": {},
     "output_type": "execute_result"
    }
   ],
   "source": [
    "result_splt[12]"
   ]
  },
  {
   "cell_type": "markdown",
   "metadata": {},
   "source": [
    "## Using alter_eta.c"
   ]
  },
  {
   "cell_type": "code",
   "execution_count": null,
   "metadata": {},
   "outputs": [],
   "source": []
  },
  {
   "cell_type": "code",
   "execution_count": 28,
   "metadata": {
    "scrolled": true
   },
   "outputs": [
    {
     "name": "stdout",
     "output_type": "stream",
     "text": [
      "\n",
      "make: Circular alter_vs.c <- alter_vs.c dependency dropped.\n",
      "\n"
     ]
    }
   ],
   "source": [
    "# enter your file directory for alterbbn_v2.2 \n",
    "run_directory_new = 'C:/Users/kathr/Chad_Research_Neutrinos/alterbbn_v2.2/alter_vs.x'\n",
    "\n",
    "directory_new = 'C:/Users/kathr/Chad_Research_Neutrinos/alterbbn_v2.2'\n",
    "\n",
    "ch = subprocess.run(['make','-C', directory_new, 'clean'], capture_output = True, text = True, shell = True)\n",
    "sh = subprocess.run(['make', '-C', directory_new, 'alter_vs.c'], capture_output = True, text = True, shell = True)\n",
    "print(ch.stderr)\n",
    "print(sh.stderr)"
   ]
  },
  {
   "cell_type": "code",
   "execution_count": 29,
   "metadata": {},
   "outputs": [
    {
     "name": "stdout",
     "output_type": "stream",
     "text": [
      "this is subprocess error: \n",
      "this is stdout: \n",
      "['']\n",
      "this is completed process note: CompletedProcess(args=['C:/Users/kathr/Chad_Research_Neutrinos/alterbbn_v2.2/alter_vs.x', '14.87365053664758', '6.1e-10', '1', '255', '104.56255360706342', '300', '7e-05'], returncode=3221225477, stdout='', stderr='')\n"
     ]
    }
   ],
   "source": [
    "d_new = subprocess.run([run_directory_new, '14.87365053664758', '6.1e-10', '1', '255', '104.56255360706342', '300', '7e-05'], capture_output = True, text = True, shell = True)\n",
    "print('this is subprocess error: {}'.format(d_new.stderr))\n",
    "x_new = d_new.stdout\n",
    "print('this is stdout: {}'.format(x_new))\n",
    "s_new = x_new.split('\\t')\n",
    "print(s_new)\n",
    "print('this is completed process note: {}'.format(d_new))"
   ]
  },
  {
   "cell_type": "code",
   "execution_count": 9,
   "metadata": {},
   "outputs": [
    {
     "data": {
      "text/plain": [
       "\"\\na = 0\\n\\nfor i in nu:\\n    d = subprocess.run([run_directory, '14.87365053664758', str(i), '1', '255', '104.56255360706342', '300', '7e-05'], capture_output = True, text = True, shell = True)\\n    x = d.stdout\\n    print(x)\\n    s = x.split('\\t')\\n    print(s)\\n    \\n    Yp[a] = float(s[12])\\n    H2_H[a] = float(s[13])\\n    He3_H[a] = float(s[14])\\n    Li7_H[a] = float(s[15])\\n    Li6_H[a] = float(s[16])\\n    #Be7_H[a] = float(s[17])\\n    a += 1\\n\""
      ]
     },
     "execution_count": 9,
     "metadata": {},
     "output_type": "execute_result"
    }
   ],
   "source": [
    "'''\n",
    "a = 0\n",
    "\n",
    "for i in nu:\n",
    "    d = subprocess.run([run_directory, '14.87365053664758', str(i), '1', '255', '104.56255360706342', '300', '7e-05'], capture_output = True, text = True, shell = True)\n",
    "    x = d.stdout\n",
    "    print(x)\n",
    "    s = x.split('\\t')\n",
    "    print(s)\n",
    "    \n",
    "    Yp[a] = float(s[12])\n",
    "    H2_H[a] = float(s[13])\n",
    "    He3_H[a] = float(s[14])\n",
    "    Li7_H[a] = float(s[15])\n",
    "    Li6_H[a] = float(s[16])\n",
    "    #Be7_H[a] = float(s[17])\n",
    "    a += 1\n",
    "'''"
   ]
  },
  {
   "cell_type": "code",
   "execution_count": null,
   "metadata": {},
   "outputs": [],
   "source": []
  },
  {
   "cell_type": "code",
   "execution_count": 26,
   "metadata": {},
   "outputs": [
    {
     "name": "stdout",
     "output_type": "stream",
     "text": [
      "\t Yp\t\t H2/H\t\t He3/H\t\t Li7/H\t\t Li6/H\t\t Be7/H\n",
      " cent:\t 2.221e-01\t 4.599e-04\t 3.578e-05\t 4.978e-10\t 1.784e-13\t 9.287e-13\t \n",
      "Excluded by BBN constraints (chi2 without correlations)\n",
      "Compatible with BBN constraints (chi2 including correlations)\n",
      "\n",
      "\t Yp\t\t H2/H\t\t He3/H\t\t Li7/H\t\t Li6/H\t\t Be7/H\n",
      " cent:\t 2.519e-01\t 1.016e-05\t 7.963e-06\t 1.320e-09\t 4.641e-15\t 1.307e-09\t \n",
      "Excluded by BBN constraints (chi2 without correlations)\n",
      "Compatible with BBN constraints (chi2 including correlations)\n",
      "\n"
     ]
    }
   ],
   "source": [
    "# enter your file directory for alterbbn_v2.2 \n",
    "run_directory = 'C:/Users/kathr/Chad_Research_Neutrinos/alterbbn_v2.2/alter_eta_edit.x'\n",
    "\n",
    "directory = 'C:/Users/kathr/Chad_Research_Neutrinos/alterbbn_v2.2'\n",
    "\n",
    "ch = subprocess.run(['make','-C', directory, 'clean'], capture_output = True, text = True, shell = True)\n",
    "sh = subprocess.run(['make', '-C', directory, 'alter_eta_edit.c'], capture_output = True, text = True, shell = True)\n",
    "\n",
    "nu = np.linspace(1e-10, 10e-10, 2)\n",
    "\n",
    "Yp = np.zeros(len(nu))\n",
    "H2_H = np.zeros(len(nu))\n",
    "He3_H = np.zeros(len(nu))\n",
    "Li7_H = np.zeros(len(nu))\n",
    "Li6_H = np.zeros(len(nu))\n",
    "Be7_H = np.zeros(len(nu))\n",
    "\n",
    "a = 0\n",
    "\n",
    "for i in nu:\n",
    "    d = subprocess.run([run_directory, str(i)], capture_output = True, text = True, shell = True)\n",
    "    #print(d.stderr)\n",
    "    x = d.stdout\n",
    "    print(x)\n",
    "    s = x.split('\\t')\n",
    "    #print(s)\n",
    "    \n",
    "    Yp[a] = float(s[12])\n",
    "    H2_H[a] = float(s[13])\n",
    "    He3_H[a] = float(s[14])\n",
    "    Li7_H[a] = float(s[15])\n",
    "    Li6_H[a] = float(s[16])\n",
    "    #Be7_H[a] = float(s[17])\n",
    "    a += 1"
   ]
  },
  {
   "cell_type": "code",
   "execution_count": 27,
   "metadata": {},
   "outputs": [
    {
     "data": {
      "image/png": "[encoded data removed]",
      "text/plain": [
       "<Figure size 432x288 with 1 Axes>"
      ]
     },
     "metadata": {
      "needs_background": "light"
     },
     "output_type": "display_data"
    },
    {
     "data": {
      "image/png": "[encoded data removed]",
      "text/plain": [
       "<Figure size 432x288 with 1 Axes>"
      ]
     },
     "metadata": {
      "needs_background": "light"
     },
     "output_type": "display_data"
    }
   ],
   "source": [
    "#print(Li7_H)\n",
    "plt.figure()\n",
    "plt.loglog(nu, Li7_H)\n",
    "plt.ylabel('Li7/H')\n",
    "plt.xlabel('$\\eta_0$')\n",
    "plt.ylim(10e-11, 10e-9)\n",
    "plt.xlim(1e-10, 10e-10)\n",
    "plt.show()\n",
    "\n",
    "plt.figure()\n",
    "plt.loglog(nu, He3_H)\n",
    "plt.ylabel('He3/H')\n",
    "plt.xlabel('$\\eta_0$')\n",
    "plt.ylim(10e-7, 10e-4)\n",
    "plt.xlim(1e-10, 10e-10)\n",
    "plt.show()"
   ]
  },
  {
   "cell_type": "code",
   "execution_count": null,
   "metadata": {},
   "outputs": [],
   "source": []
  },
  {
   "cell_type": "code",
   "execution_count": null,
   "metadata": {},
   "outputs": [],
   "source": []
  }
 ],
 "metadata": {
  "kernelspec": {
   "display_name": "Python 3",
   "language": "python",
   "name": "python3"
  },
  "language_info": {
   "codemirror_mode": {
    "name": "ipython",
    "version": 3
   },
   "file_extension": ".py",
   "mimetype": "text/x-python",
   "name": "python",
   "nbconvert_exporter": "python",
   "pygments_lexer": "ipython3",
   "version": "3.7.6"
  }
 },
 "nbformat": 4,
 "nbformat_minor": 4
}
