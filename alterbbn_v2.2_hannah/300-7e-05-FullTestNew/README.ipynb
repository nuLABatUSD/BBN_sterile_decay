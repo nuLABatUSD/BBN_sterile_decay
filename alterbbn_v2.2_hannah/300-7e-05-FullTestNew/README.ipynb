{
 "cells": [
  {
   "cell_type": "markdown",
   "id": "cd6229d6",
   "metadata": {},
   "source": [
    "## README for results file of sterile neutrino model with $m_s = 300$ MeV and $\\theta = 7 \\times 10^{-5}$"
   ]
  },
  {
   "cell_type": "markdown",
   "id": "bf41aeb1",
   "metadata": {},
   "source": [
    "### The mass_300_mix_7e-05.npz file is from RunVarCode \n",
    "\n",
    "This file can be loaded from anywhere with\n",
    "``results = np.load(\"/Users/hannahrasmussen/Work/Most_recent_code/300-7e-05-FullTestNew/300-7e-05-FullTestNew/mass_300_mix_7e-05.npz\")``\n",
    "\n",
    "The arrays and matrices included in this file are:\n",
    "\n",
    "* ``a_arr = results['scalefactors']``, the array of scale factors, the independent variable\n",
    "* ``t_arr = results['time']``, the array of time in units of $\\text{MeV}^{-1}$\n",
    "* ``T_arr = results['temp']``, the array of plasma temperature in units of MeV\n",
    "* ``Tcm_arr = results['Tcm']``, the array of comoving temperature in units of MeV, this is equivalent to 1/a_arr\n",
    "* ``e_mat = results['e']``, the array of $\\epsilon = E/T_{\\rm cm}$ arrays \n",
    "* ``f_mat = results['fe']``, the array of neutrino occupation fraction arrays $f(\\epsilon)$ \n",
    "* ``n_nu_arr = results['NumbDensityDist']``, not 100% sure what this is, but I imagine it is neutrino number density over scale factor (which should stay constant). I don't think we've used it in our code thus far...\n",
    "* ``d_mat = results['decayrate']``, I believe this is supposed to be the matrix of rates that goes into the 'df' movie and is the solid black line, but I'm not really sure if it's reliable, as it's possible that just a filler array was used to make this. Just use the arrays in movie_arrays.npz for making movies\n",
    "* ``c_mat = results['collisionrate']``, I believe this is supposed to be the matrix of rates that goes into the 'df' movie and becomes the dashed black and red lines, but I'm not really sure if it's reliable, as it's possible that just a filler array was used to make this. Just use the arrays in movie_arrays.npz for making movies\n",
    "* ``np_mat = results['n_p_rate']``, supposed to be the matrix of neutron to proton rates, but again, I don't think it's reliable, just use movie_arrays.npz\n",
    "* ``pn_mat = results['p_n_rate']``, supposed to be the matrix of proton to neutron rates, but again, I don't think it's reliable, just use movie_arrays.npz\n",
    "\n",
    "Also included in this file are the \n",
    "\n",
    "* ``ms = results['mass']``\n",
    "* ``mixangle = results['mixing']``\n",
    "* ``ts = results['lifetime']``\n",
    "* ``Neff = results['neff']``"
   ]
  },
  {
   "cell_type": "markdown",
   "id": "a3d00fb7",
   "metadata": {},
   "source": [
    "### The movie_arrays.npz file is from the function \"create_movie_arrays\" in PostProcessing.py \n",
    "\n",
    "This file can be loaded from anywhere with\n",
    "``results = np.load(\"/Users/hannahrasmussen/Work/Most_recent_code/300-7e-05-FullTestNew/300-7e-05-FullTestNew/movie_arrays.npz\")`` \n",
    "\n",
    "The arrays and matrices included in this file are:\n",
    "\n",
    "* ``a_arr = results['a']``, the array of scale factors, the independent variable\n",
    "* ``e_mat = results['e']``, the matrix containing $\\epsilon = E/T_{\\rm cm}$ arrays \n",
    "* ``f_mat = results['f']``, the matrix of neutrino occupation fraction arrays $f(\\epsilon)$ \n",
    "* ``T_arr = results['T']``, the array of plasma temperature in units of MeV\n",
    "* ``t_arr = results['t']``, the array of time in units of $\\text{MeV}^{-1}$\n",
    "* ``d_mat = results['d']``, the matrix of the rate of sterile decay into active neutrinos as a function of epsilon \n",
    "* ``c_mat = results['c']``, the matrix of the rate of neutrino-neutrino and neutrino-electron collisions as a function of epsilon\n",
    "* ``np_mat = results['np']``, the neutron to proton rate throughout our model\n",
    "* ``np_SM_mat = results['np_SM']``, the neutron to proton rate throughout the standard cosmological model\n",
    "* ``pn_mat = results['pn']``, the proton to neutron rate throughout our model\n",
    "* ``pn_SM_mat = results['pn_SM']``, the proton to neutron rate throughout the standard cosmological model\n",
    "* ``Hub_mat = results['Hub']``, the Hubble rate in our model\n",
    "* ``Hub_SM_mat = results['Hub_SM']``, the Hubble rate in the standard cosmological model"
   ]
  },
  {
   "cell_type": "markdown",
   "id": "281aca28",
   "metadata": {},
   "source": [
    "### The f.mp4 file is from the function \"movie_f\" in PostProcessing.py and shows the active neutrino spectra over time from this sterile neutrino model"
   ]
  },
  {
   "cell_type": "markdown",
   "id": "45055e50",
   "metadata": {},
   "source": [
    "### The df.mp4 file is from the function \"movie_df\" in PostProcessing.py and shows the derivative in active neutrino spectra over time from this sterile neutrino model"
   ]
  },
  {
   "cell_type": "markdown",
   "id": "f0c0f795",
   "metadata": {},
   "source": [
    "### The TTcm.mp4 file is from the function \"movie_TTcm\" in PostProcessing.py and compares the evolution of plasma temperature $T$ and comoving temperature $T_{\\rm cm}$ over time"
   ]
  },
  {
   "cell_type": "markdown",
   "id": "29045823",
   "metadata": {},
   "source": [
    "### The n2p.mp4 file is from the function \"movie_n2p\" in PostProcessing.py and is a video comparing the neutron to proton and proton to neutron rates in our model and those in the standard cosmological model"
   ]
  },
  {
   "cell_type": "markdown",
   "id": "7ab02338",
   "metadata": {},
   "source": [
    "### The decay_collision.mp4 file is from the function \"make_movies_3\" in PostProcessing.py and contains three videos in one: the evolution of $f$ in the top left, the evolution of $df$ in the bottom left, and the evolution of plasma temperature and comovnig temperature at right."
   ]
  }
 ],
 "metadata": {
  "kernelspec": {
   "display_name": "Python 3",
   "language": "python",
   "name": "python3"
  },
  "language_info": {
   "codemirror_mode": {
    "name": "ipython",
    "version": 3
   },
   "file_extension": ".py",
   "mimetype": "text/x-python",
   "name": "python",
   "nbconvert_exporter": "python",
   "pygments_lexer": "ipython3",
   "version": "3.8.8"
  }
 },
 "nbformat": 4,
 "nbformat_minor": 5
}
