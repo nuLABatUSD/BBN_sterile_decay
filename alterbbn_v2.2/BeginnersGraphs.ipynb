{
 "cells": [
  {
   "cell_type": "code",
   "execution_count": 7,
   "metadata": {},
   "outputs": [],
   "source": [
    "import subprocess\n",
    "import numpy as np\n",
    "import matplotlib.pyplot as plt"
   ]
  },
  {
   "cell_type": "markdown",
   "metadata": {},
   "source": [
    "## Starting Example"
   ]
  },
  {
   "cell_type": "code",
   "execution_count": 8,
   "metadata": {},
   "outputs": [],
   "source": [
    "#result = subprocess.run(['C:/Users/kathr/Downloads/alterbbn_v2.2/stand_cosmo.x', '3'], capture_output = True, text = True)"
   ]
  },
  {
   "cell_type": "code",
   "execution_count": 9,
   "metadata": {},
   "outputs": [],
   "source": [
    "#print(result.stdout)"
   ]
  },
  {
   "cell_type": "code",
   "execution_count": 10,
   "metadata": {},
   "outputs": [],
   "source": [
    "#result_str = result.stdout"
   ]
  },
  {
   "cell_type": "code",
   "execution_count": 11,
   "metadata": {},
   "outputs": [],
   "source": [
    "#result_splt = result_str.split('\\t')"
   ]
  },
  {
   "cell_type": "code",
   "execution_count": 12,
   "metadata": {},
   "outputs": [],
   "source": [
    "#result_splt[12]"
   ]
  },
  {
   "cell_type": "markdown",
   "metadata": {},
   "source": [
    "## Creating functions for alter_eta & alter_vs plots"
   ]
  },
  {
   "cell_type": "code",
   "execution_count": 24,
   "metadata": {},
   "outputs": [],
   "source": [
    "def clean_directory(directory, file):\n",
    "    # enter your file directory for alterbbn_v2.2 \n",
    "    #run_directory = 'C:/Users/kathr/Chad_Research_Neutrinos/alterbbn_v2.2/alter_eta_edit.x'\n",
    "    #run_directory_new = 'C:/Users/kathr/Chad_Research_Neutrinos/alterbbn_v2.2/alter_vs.x'\n",
    "\n",
    "    directory = 'C:/Users/kathr/Chad_Research_Neutrinos/alterbbn_v2.2'\n",
    "\n",
    "    ch = subprocess.run(['make','-C', directory, 'clean'], capture_output = True, text = True, shell = True)\n",
    "    sh = subprocess.run(['make', '-C', directory, file], capture_output = True, text = True, shell = True)\n",
    "    print(ch.stderr)\n",
    "    print(sh.stderr)"
   ]
  },
  {
   "cell_type": "code",
   "execution_count": 25,
   "metadata": {},
   "outputs": [
    {
     "name": "stdout",
     "output_type": "stream",
     "text": [
      "\n",
      "make: Circular alter_vs.c <- alter_vs.c dependency dropped.\n",
      "\n"
     ]
    }
   ],
   "source": [
    "#clean_directory('C:/Users/kathr/Chad_Research_Neutrinos/alterbbn_v2.2', 'alter_vs.c')"
   ]
  },
  {
   "cell_type": "code",
   "execution_count": 1,
   "metadata": {},
   "outputs": [],
   "source": [
    "def output_plots_alter_vs(nu_start, nu_end, nu_steps, run_directory_new, row, ns0, mass, mixangle):   \n",
    "    #nu = np.linspace(1e-10, 10e-10, 40)\n",
    "    nu = np.linspace(nu_start, nu_end, nu_steps)\n",
    "\n",
    "    Yp_vs = np.zeros(len(nu))\n",
    "    H2_H_vs = np.zeros(len(nu))\n",
    "    He3_H_vs = np.zeros(len(nu))\n",
    "    Li7_H_vs = np.zeros(len(nu))\n",
    "    Li6_H_vs = np.zeros(len(nu))\n",
    "    Be7_H_vs = np.zeros(len(nu))\n",
    "\n",
    "    a = 0\n",
    "\n",
    "    for i in nu:\n",
    "        d = subprocess.run([run_directory_new, '14.87365053664758', str(i), '1', row, ns0, mass, mixangle], capture_output = True, text = True, shell = True)\n",
    "        print(d)\n",
    "        print(d.stderr)\n",
    "        x = d.stdout\n",
    "        #print(x)\n",
    "        s = x.split('\\t')\n",
    "        #print(s)\n",
    "\n",
    "        Yp_vs[a] = float(s[12])\n",
    "        H2_H_vs[a] = float(s[13])\n",
    "        He3_H_vs[a] = float(s[14])\n",
    "        Li7_H_vs[a] = float(s[15])\n",
    "        Li6_H_vs[a] = float(s[16])\n",
    "        #Be7_H[a] = float(s[17])\n",
    "        a += 1\n",
    "    \n",
    "    plt.figure()\n",
    "    plt.loglog(nu, Li7_H_vs)\n",
    "    plt.ylabel('Li7/H')\n",
    "    plt.xlabel('$\\eta_0$')\n",
    "    #plt.ylim(10e-11, 10e-9)\n",
    "    #plt.xlim(1e-10, 10e-10)\n",
    "    plt.show()\n",
    "\n",
    "    plt.figure()\n",
    "    plt.loglog(nu, He3_H_vs)\n",
    "    plt.ylabel('He3/H')\n",
    "    plt.xlabel('$\\eta_0$')\n",
    "    #plt.ylim(10e-7, 10e-4)\n",
    "    #plt.xlim(1e-10, 10e-10)\n",
    "    plt.show()\n",
    "    \n",
    "    #return Yp_vs, H2_H_vs, He3_H_vs, Li7_H_vs, Li6_H_vs"
   ]
  },
  {
   "cell_type": "code",
   "execution_count": 16,
   "metadata": {},
   "outputs": [
    {
     "data": {
      "image/png": "[encoded data removed]",
      "text/plain": [
       "<Figure size 432x288 with 1 Axes>"
      ]
     },
     "metadata": {
      "needs_background": "light"
     },
     "output_type": "display_data"
    },
    {
     "data": {
      "image/png": "[encoded data removed]",
      "text/plain": [
       "<Figure size 432x288 with 1 Axes>"
      ]
     },
     "metadata": {
      "needs_background": "light"
     },
     "output_type": "display_data"
    }
   ],
   "source": [
    "#output_plots_alter_vs(1e-10, 10e-10, 40,'C:/Users/kathr/Chad_Research_Neutrinos/alterbbn_v2.2/alter_vs.x')"
   ]
  },
  {
   "cell_type": "code",
   "execution_count": 29,
   "metadata": {},
   "outputs": [
    {
     "name": "stdout",
     "output_type": "stream",
     "text": [
      "\n",
      "make: Circular alter_eta_edit.c <- alter_eta_edit.c dependency dropped.\n",
      "\n"
     ]
    }
   ],
   "source": [
    "#clean_directory('C:/Users/kathr/Chad_Research_Neutrinos/alterbbn_v2.2', 'alter_eta_edit.c')"
   ]
  },
  {
   "cell_type": "code",
   "execution_count": 32,
   "metadata": {},
   "outputs": [],
   "source": [
    "def output_arrays_alter_eta(nu_start, nu_end, nu_steps, run_directory):\n",
    "    nu = np.linspace(nu_start, nu_end, nu_steps)\n",
    "    \n",
    "    Yp = np.zeros(len(nu))\n",
    "    H2_H = np.zeros(len(nu))\n",
    "    He3_H = np.zeros(len(nu))\n",
    "    Li7_H = np.zeros(len(nu))\n",
    "    Li6_H = np.zeros(len(nu))\n",
    "    Be7_H = np.zeros(len(nu))\n",
    "\n",
    "    a = 0\n",
    "\n",
    "    for i in nu:\n",
    "        d = subprocess.run([run_directory, str(i)], capture_output = True, text = True, shell = True)\n",
    "        #print(d.stderr)\n",
    "        x = d.stdout\n",
    "        #print(x)\n",
    "        s = x.split('\\t')\n",
    "        #print(s)\n",
    "\n",
    "        Yp[a] = float(s[12])\n",
    "        H2_H[a] = float(s[13])\n",
    "        He3_H[a] = float(s[14])\n",
    "        Li7_H[a] = float(s[15])\n",
    "        Li6_H[a] = float(s[16])\n",
    "        #Be7_H[a] = float(s[17])\n",
    "        a += 1\n",
    "\n",
    "    plt.figure()\n",
    "    plt.loglog(nu, Li7_H)\n",
    "    plt.ylabel('Li7/H')\n",
    "    plt.xlabel('$\\eta_0$')\n",
    "    plt.ylim(10e-11, 10e-9)\n",
    "    plt.xlim(1e-10, 10e-10)\n",
    "    plt.show()\n",
    "\n",
    "    plt.figure()\n",
    "    plt.loglog(nu, He3_H)\n",
    "    plt.ylabel('He3/H')\n",
    "    plt.xlabel('$\\eta_0$')\n",
    "    plt.ylim(10e-7, 10e-4)\n",
    "    plt.xlim(1e-10, 10e-10)\n",
    "    plt.show()\n",
    "        \n",
    "    #return Yp, H2_H, He3_H, Li7_H, Li6_H"
   ]
  },
  {
   "cell_type": "code",
   "execution_count": 33,
   "metadata": {},
   "outputs": [
    {
     "data": {
      "image/png": "[encoded data removed]",
      "text/plain": [
       "<Figure size 432x288 with 1 Axes>"
      ]
     },
     "metadata": {
      "needs_background": "light"
     },
     "output_type": "display_data"
    },
    {
     "data": {
      "image/png": "[encoded data removed]",
      "text/plain": [
       "<Figure size 432x288 with 1 Axes>"
      ]
     },
     "metadata": {
      "needs_background": "light"
     },
     "output_type": "display_data"
    }
   ],
   "source": [
    "#output_arrays_alter_eta(1e-10, 10e-10, 40,'C:/Users/kathr/Chad_Research_Neutrinos/alterbbn_v2.2/alter_eta_edit.x')"
   ]
  },
  {
   "cell_type": "code",
   "execution_count": null,
   "metadata": {},
   "outputs": [],
   "source": []
  }
 ],
 "metadata": {
  "kernelspec": {
   "display_name": "Python 3",
   "language": "python",
   "name": "python3"
  },
  "language_info": {
   "codemirror_mode": {
    "name": "ipython",
    "version": 3
   },
   "file_extension": ".py",
   "mimetype": "text/x-python",
   "name": "python",
   "nbconvert_exporter": "python",
   "pygments_lexer": "ipython3",
   "version": "3.7.6"
  }
 },
 "nbformat": 4,
 "nbformat_minor": 4
}
