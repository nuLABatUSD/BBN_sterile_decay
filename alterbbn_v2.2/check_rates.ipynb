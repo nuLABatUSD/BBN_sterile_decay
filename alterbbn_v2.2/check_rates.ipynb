{
 "cells": [
  {
   "cell_type": "code",
   "execution_count": 1,
   "id": "41c98b34",
   "metadata": {},
   "outputs": [],
   "source": [
    "import numpy as np\n",
    "import numba as nb\n",
    "import os\n",
    "from scipy.interpolate import CubicSpline\n",
    "import pandas as pd\n",
    "import BeginnersGraphs as ev\n",
    "import CuteGraphs as te\n",
    "import matplotlib.pyplot as plt\n",
    "from IPython.core.display import Image, display"
   ]
  },
  {
   "cell_type": "code",
   "execution_count": 2,
   "id": "a4059a5b",
   "metadata": {},
   "outputs": [
    {
     "name": "stdout",
     "output_type": "stream",
     "text": [
      "there is a file!\n"
     ]
    }
   ],
   "source": [
    "x = te.eta_element_string_vs(6.1e-10, './alter_vs.x', '12', isPC=False)"
   ]
  },
  {
   "cell_type": "code",
   "execution_count": 16,
   "id": "24dd3d07",
   "metadata": {},
   "outputs": [],
   "source": [
    "n2p = np.loadtxt(\"CSV_Files/d_np.csv\",delimiter=',',skiprows=1,usecols=1)\n",
    "Tn2p = np.loadtxt(\"CSV_Files/T_np.csv\",delimiter=',',skiprows=1,usecols=1)\n",
    "p2n = np.loadtxt(\"CSV_Files/d_pn.csv\",delimiter=',',skiprows=1,usecols=1)\n",
    "Tp2n = np.loadtxt(\"CSV_Files/T_pn.csv\",delimiter=',',skiprows=1,usecols=1)\n",
    "\n",
    "T_fit_pn = CubicSpline(Tp2n[::-1], p2n[::-1]) #cubic spline fit \n",
    "T_fit_np = CubicSpline(Tn2p[::-1], n2p[::-1]) #cubic spline fit \n"
   ]
  },
  {
   "cell_type": "code",
   "execution_count": null,
   "id": "83948779",
   "metadata": {},
   "outputs": [],
   "source": [
    "npz = np.load('newer_movie_arrays.npz')"
   ]
  },
  {
   "cell_type": "code",
   "execution_count": null,
   "id": "9df97166",
   "metadata": {},
   "outputs": [],
   "source": []
  },
  {
   "cell_type": "code",
   "execution_count": null,
   "id": "769c35b3",
   "metadata": {},
   "outputs": [],
   "source": []
  },
  {
   "cell_type": "code",
   "execution_count": null,
   "id": "9468c51e",
   "metadata": {},
   "outputs": [],
   "source": []
  },
  {
   "cell_type": "code",
   "execution_count": null,
   "id": "ad756923",
   "metadata": {},
   "outputs": [],
   "source": []
  },
  {
   "cell_type": "code",
   "execution_count": 17,
   "id": "87d85023",
   "metadata": {},
   "outputs": [
    {
     "data": {
      "text/plain": [
       "Text(0.5, 0, 'T')"
      ]
     },
     "execution_count": 17,
     "metadata": {},
     "output_type": "execute_result"
    },
    {
     "data": {
      "image/png": "[encoded data removed]",
      "text/plain": [
       "<Figure size 432x288 with 1 Axes>"
      ]
     },
     "metadata": {
      "needs_background": "light"
     },
     "output_type": "display_data"
    }
   ],
   "source": [
    "plt.figure()\n",
    "plt.loglog(x[0], x[-1], color='k')\n",
    "plt.loglog(x[0], -x[-1], color= 'r', linestyle='--')\n",
    "plt.loglog(Tp2n, p2n*1.2, 'o')\n",
    "plt.loglog(x[0], T_fit_pn(x[0]))\n",
    "plt.xlim(max(x[0]), min(x[0]))\n",
    "#plt.xlim(8,5)\n",
    "plt.ylim(1e-30, 1e-15)\n",
    "plt.ylabel(\"pn\")\n",
    "plt.xlabel(\"T\")"
   ]
  },
  {
   "cell_type": "code",
   "execution_count": 5,
   "id": "da5d28a7",
   "metadata": {},
   "outputs": [
    {
     "data": {
      "text/plain": [
       "(12.0, 0.409641)"
      ]
     },
     "execution_count": 5,
     "metadata": {},
     "output_type": "execute_result"
    },
    {
     "data": {
      "image/png": "[encoded data removed]",
      "text/plain": [
       "<Figure size 432x288 with 1 Axes>"
      ]
     },
     "metadata": {
      "needs_background": "light"
     },
     "output_type": "display_data"
    }
   ],
   "source": [
    "plt.figure()\n",
    "plt.loglog(x[0], x[-2], color='k')\n",
    "plt.loglog(x[0], -x[-2], color= 'r', linestyle='--')\n",
    "plt.loglog(Tn2p, n2p, 'o')\n",
    "plt.xlim(max(x[0]), min(x[0]))\n",
    "#plt.ylim(1e-23, 1e-18)"
   ]
  },
  {
   "cell_type": "code",
   "execution_count": 15,
   "id": "4bc8bd90",
   "metadata": {},
   "outputs": [],
   "source": []
  },
  {
   "cell_type": "code",
   "execution_count": 6,
   "id": "18a90608",
   "metadata": {},
   "outputs": [
    {
     "data": {
      "text/plain": [
       "(4253,)"
      ]
     },
     "execution_count": 6,
     "metadata": {},
     "output_type": "execute_result"
    }
   ],
   "source": [
    "x[0].shape"
   ]
  },
  {
   "cell_type": "code",
   "execution_count": 7,
   "id": "6c372e65",
   "metadata": {},
   "outputs": [
    {
     "data": {
      "text/plain": [
       "array([12.      , 12.      , 12.      , ...,  0.409641,  0.409641,\n",
       "        0.409641])"
      ]
     },
     "execution_count": 7,
     "metadata": {},
     "output_type": "execute_result"
    }
   ],
   "source": [
    "x[0]"
   ]
  },
  {
   "cell_type": "code",
   "execution_count": 8,
   "id": "712a688e",
   "metadata": {},
   "outputs": [
    {
     "data": {
      "text/plain": [
       "0.0"
      ]
     },
     "execution_count": 8,
     "metadata": {},
     "output_type": "execute_result"
    }
   ],
   "source": [
    "x[0][0]-x[0][2]"
   ]
  },
  {
   "cell_type": "code",
   "execution_count": 9,
   "id": "a98adf4c",
   "metadata": {},
   "outputs": [
    {
     "data": {
      "text/plain": [
       "array([12.     , 12.     , 12.     , 12.     , 12.     , 12.     ,\n",
       "       12.     , 12.     , 12.     , 12.     , 12.     , 12.     ,\n",
       "       12.     , 11.9999 , 11.9999 , 11.9999 , 11.9998 , 11.9997 ,\n",
       "       11.9996 , 11.9994 , 11.9991 , 11.9986 , 11.998  , 11.9969 ,\n",
       "       11.9954 , 11.9931 , 11.9897 , 11.9845 , 11.9768 , 11.9653 ,\n",
       "       11.9481 , 11.9223 , 11.8841 , 11.8273 , 11.7438 , 11.6281 ,\n",
       "       11.5135 , 11.4001 , 11.2878 , 11.1766 , 11.0665 , 10.9575 ,\n",
       "       10.8496 , 10.7427 , 10.6369 , 10.5322 , 10.4284 , 10.3257 ,\n",
       "       10.224  , 10.1233 , 10.0237 ,  9.92494,  9.91642,  9.9162 ,\n",
       "        9.91614,  9.91605,  9.91592,  9.91572,  9.91542,  9.91497,\n",
       "        9.91429,  9.91328,  9.91176,  9.91119,  9.91033,  9.90905,\n",
       "        9.90852,  9.90774,  9.90657,  9.90578,  9.90473,  9.904  ,\n",
       "        9.90291,  9.90222,  9.90118,  9.90036,  9.89935,  9.89857,\n",
       "        9.89752,  9.89679,  9.8957 ,  9.895  ,  9.89394,  9.89316,\n",
       "        9.8921 ,  9.89138,  9.8903 ,  9.88957,  9.88847,  9.88778,\n",
       "        9.88675,  9.8859 ,  9.88493,  9.88411,  9.88309,  9.88232,\n",
       "        9.88125,  9.88053,  9.87946,  9.87871,  9.87761,  9.87693,\n",
       "        9.8759 ,  9.87504,  9.87407,  9.87324,  9.87224,  9.87144,\n",
       "        9.87039,  9.86965,  9.86854,  9.86786,  9.86684,  9.86596,\n",
       "        9.86501,  9.86415,  9.86318,  9.86235,  9.86134,  9.86055])"
      ]
     },
     "execution_count": 9,
     "metadata": {},
     "output_type": "execute_result"
    }
   ],
   "source": [
    "x[0][:120]"
   ]
  },
  {
   "cell_type": "code",
   "execution_count": 10,
   "id": "b1d1ab37",
   "metadata": {},
   "outputs": [
    {
     "name": "stdout",
     "output_type": "stream",
     "text": [
      "0\n",
      "1\n",
      "2\n",
      "3\n",
      "4\n",
      "5\n",
      "6\n",
      "7\n",
      "8\n",
      "9\n",
      "10\n",
      "11\n",
      "12\n",
      "13\n",
      "14\n",
      "15\n",
      "16\n",
      "18\n",
      "4175\n",
      "4177\n",
      "4178\n",
      "4180\n",
      "4181\n",
      "4182\n",
      "4183\n",
      "4184\n",
      "4185\n",
      "4186\n",
      "4187\n",
      "4188\n",
      "4189\n",
      "4190\n",
      "4191\n",
      "4192\n",
      "4193\n",
      "4194\n",
      "4195\n",
      "4196\n",
      "4197\n",
      "4198\n",
      "4199\n",
      "4200\n",
      "4201\n",
      "4202\n",
      "4203\n",
      "4204\n",
      "4205\n",
      "4206\n",
      "4207\n",
      "4208\n",
      "4209\n",
      "4210\n",
      "4211\n",
      "4212\n",
      "4213\n",
      "4214\n",
      "4215\n",
      "4216\n",
      "4217\n",
      "4218\n",
      "4219\n",
      "4220\n",
      "4221\n",
      "4222\n",
      "4223\n",
      "4224\n",
      "4225\n",
      "4226\n",
      "4227\n",
      "4228\n",
      "4229\n",
      "4230\n",
      "4231\n",
      "4232\n",
      "4233\n",
      "4234\n",
      "4235\n",
      "4236\n",
      "4237\n",
      "4238\n",
      "4239\n",
      "4240\n",
      "4241\n",
      "4242\n",
      "4243\n",
      "4244\n",
      "4245\n",
      "4246\n",
      "4247\n",
      "4248\n",
      "4249\n",
      "4250\n",
      "4251\n"
     ]
    }
   ],
   "source": [
    "for i in range(len(x[0])-1):\n",
    "    if x[5][i] == x[5][i+1]:\n",
    "        print(i)"
   ]
  },
  {
   "cell_type": "code",
   "execution_count": 14,
   "id": "f60f8e68",
   "metadata": {},
   "outputs": [
    {
     "data": {
      "text/plain": [
       "(12.0, 0.409641)"
      ]
     },
     "execution_count": 14,
     "metadata": {},
     "output_type": "execute_result"
    },
    {
     "name": "stderr",
     "output_type": "stream",
     "text": [
      "/Users/ckishimoto/opt/anaconda3/lib/python3.8/site-packages/ipykernel/pylab/backend_inline.py:183: UserWarning: Data has no positive values, and therefore cannot be log-scaled.\n",
      "  for label in axis.get_ticklabels()])\n"
     ]
    },
    {
     "data": {
      "image/png": "[encoded data removed]",
      "text/plain": [
       "<Figure size 432x288 with 1 Axes>"
      ]
     },
     "metadata": {
      "needs_background": "light"
     },
     "output_type": "display_data"
    }
   ],
   "source": [
    "plt.figure()\n",
    "plt.loglog(x[0], -x[3], color='k')\n",
    "plt.xlim(max(x[0]), min(x[0]))\n"
   ]
  },
  {
   "cell_type": "code",
   "execution_count": 12,
   "id": "6df36411",
   "metadata": {},
   "outputs": [
    {
     "data": {
      "text/plain": [
       "-6.67871e-45"
      ]
     },
     "execution_count": 12,
     "metadata": {},
     "output_type": "execute_result"
    }
   ],
   "source": [
    "min(x[2])"
   ]
  },
  {
   "cell_type": "code",
   "execution_count": null,
   "id": "d6102c59",
   "metadata": {},
   "outputs": [],
   "source": []
  }
 ],
 "metadata": {
  "kernelspec": {
   "display_name": "Python 3",
   "language": "python",
   "name": "python3"
  },
  "language_info": {
   "codemirror_mode": {
    "name": "ipython",
    "version": 3
   },
   "file_extension": ".py",
   "mimetype": "text/x-python",
   "name": "python",
   "nbconvert_exporter": "python",
   "pygments_lexer": "ipython3",
   "version": "3.8.8"
  }
 },
 "nbformat": 4,
 "nbformat_minor": 5
}
