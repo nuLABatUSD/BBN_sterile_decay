{
 "cells": [
  {
   "cell_type": "markdown",
   "id": "95bf59f0",
   "metadata": {},
   "source": [
    "# README for ``eq_arrs``\n",
    "\n",
    "This folder contains three arrays that are representative of the evolution of the early Universe in the standard cosmological model. They can be imported into other code with \n",
    "\n",
    "    a_std = np.load(\"/Users/hannahrasmussen/Work/Most_recent_code/eq_arrs/eq_arrs/Luke_a.npy\") \n",
    "    eta_std = np.load(\"/Users/hannahrasmussen/Work/Most_recent_code/eq_arrs/eq_arrs/Luke_eta.npy\") \n",
    "    T_std = np.load(\"/Users/hannahrasmussen/Work/Most_recent_code/eq_arrs/eq_arrs/Luke_T.npy\") \n",
    "\n",
    "or \n",
    "\n",
    "    a_std = np.load(\"../eq_arrs/eq_arrs/Luke_a.npy\") \n",
    "    eta_std = np.load(\"../eq_arrs/eq_arrs/Luke_eta.npy\") \n",
    "    T_std = np.load(\"../eq_arrs/eq_arrs/Luke_T.npy\") \n",
    "    \n",
    "if they are in the same directory as the folder with the code that imports them."
   ]
  },
  {
   "cell_type": "markdown",
   "id": "87bbede3",
   "metadata": {},
   "source": [
    "* How were they derived?"
   ]
  },
  {
   "cell_type": "code",
   "execution_count": null,
   "id": "3f4c7af4",
   "metadata": {},
   "outputs": [],
   "source": []
  }
 ],
 "metadata": {
  "kernelspec": {
   "display_name": "Python 3",
   "language": "python",
   "name": "python3"
  },
  "language_info": {
   "codemirror_mode": {
    "name": "ipython",
    "version": 3
   },
   "file_extension": ".py",
   "mimetype": "text/x-python",
   "name": "python",
   "nbconvert_exporter": "python",
   "pygments_lexer": "ipython3",
   "version": "3.8.8"
  }
 },
 "nbformat": 4,
 "nbformat_minor": 5
}
