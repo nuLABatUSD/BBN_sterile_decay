{
 "cells": [
  {
   "cell_type": "code",
   "execution_count": 4,
   "metadata": {},
   "outputs": [],
   "source": [
    "#import var_code as VC\n",
    "import numpy as np\n",
    "import numba as nb\n",
    "import os\n",
    "from scipy.interpolate import CubicSpline\n",
    "import pandas as pd\n",
    "import BeginnersGraphs as ev\n",
    "import CuteGraphs as te"
   ]
  },
  {
   "cell_type": "code",
   "execution_count": 26,
   "metadata": {},
   "outputs": [],
   "source": [
    "def generate_csv(npz_file, folder_name = \" \"):\n",
    "    load_data = np.load(npz_file)\n",
    "\n",
    "    T = load_data['T']\n",
    "    dQdt = load_data['dQdt']\n",
    "    dqdt = np.nan_to_num(dQdt, copy=True, nan=0.0, posinf=None, neginf=None)\n",
    "    pn = load_data['pn']\n",
    "    NP = load_data['np']\n",
    "    rhonu = load_data['rhonu']\n",
    "\n",
    "    T_reversed = T[::-1]\n",
    "    dqdt_reversed = dqdt[::-1]\n",
    "    pn_reversed = pn[::-1]\n",
    "    np_reversed = NP[::-1]\n",
    "    rhonu_reversed = rhonu[::-1]\n",
    "\n",
    "    T_fit_dqdt = CubicSpline(T_reversed, dqdt_reversed) #cubic spline fit \n",
    "    T_fit_pn = CubicSpline(T_reversed, pn_reversed) #cubic spline fit \n",
    "    T_fit_np = CubicSpline(T_reversed, np_reversed) #cubic spline fit \n",
    "    T_fit_rhonu = CubicSpline(T_reversed, rhonu_reversed) #cubic spline fit \n",
    "\n",
    "    #determine coefficients a,b,c,d:\n",
    "    d_dqdt = T_fit_dqdt(T)\n",
    "    c_dqdt = T_fit_dqdt(T,1)\n",
    "    b_dqdt = T_fit_dqdt(T,2)*.5\n",
    "    a_dqdt = T_fit_dqdt(T,3)*(1/6)\n",
    "\n",
    "    d_pn = T_fit_pn(T)\n",
    "    c_pn = T_fit_pn(T,1)\n",
    "    b_pn = T_fit_pn(T,2)*.5\n",
    "    a_pn = T_fit_pn(T,3)*(1/6)\n",
    "\n",
    "    d_np = T_fit_np(T)\n",
    "    c_np = T_fit_np(T,1)\n",
    "    b_np = T_fit_np(T,2)*.5\n",
    "    a_np = T_fit_np(T,3)*(1/6)\n",
    "\n",
    "    d_rhonu = T_fit_rhonu(T)\n",
    "    c_rhonu = T_fit_rhonu(T,1)\n",
    "    b_rhonu = T_fit_rhonu(T,2)*.5\n",
    "    a_rhonu = T_fit_rhonu(T,3)*(1/6)\n",
    "    \n",
    "    try:\n",
    "        os.mkdir(folder_name)\n",
    "    except OSError as e:\n",
    "        print(\"Directory exists\")\n",
    "        \n",
    "    te.delete_file(folder_name + \"T_dqdt.csv\")\n",
    "    te.delete_file(folder_name + \"a_dqdt.csv\")\n",
    "    te.delete_file(folder_name + \"b_dqdt.csv\")\n",
    "    te.delete_file(folder_name + \"c_dqdt.csv\")\n",
    "    te.delete_file(folder_name + \"d_dqdt.csv\")\n",
    "\n",
    "    te.delete_file(folder_name + \"T_pn.csv\")\n",
    "    te.delete_file(folder_name + \"a_pn.csv\")\n",
    "    te.delete_file(folder_name + \"b_pn.csv\")\n",
    "    te.delete_file(folder_name + \"c_pn.csv\")\n",
    "    te.delete_file(folder_name + \"d_pn.csv\")\n",
    "\n",
    "    te.delete_file(folder_name + \"T_np.csv\")\n",
    "    te.delete_file(folder_name + \"a_np.csv\")\n",
    "    te.delete_file(folder_name + \"b_np.csv\")\n",
    "    te.delete_file(folder_name + \"c_np.csv\")\n",
    "    te.delete_file(folder_name + \"d_np.csv\")\n",
    "\n",
    "    te.delete_file(folder_name + \"T_rhonu.csv\")\n",
    "    te.delete_file(folder_name + \"a_rhonu.csv\")\n",
    "    te.delete_file(folder_name + \"b_rhonu.csv\")\n",
    "    te.delete_file(folder_name + \"c_rhonu.csv\")\n",
    "    te.delete_file(folder_name + \"d_rhonu.csv\")\n",
    "    \n",
    "    T_dqdt_csv = pd.DataFrame(T).to_csv(folder_name + 'T_dqdt.csv')\n",
    "    a_dqdt_csv = pd.DataFrame(a_dqdt).to_csv(folder_name + 'a_dqdt.csv')\n",
    "    b_dqdt_csv = pd.DataFrame(b_dqdt).to_csv(folder_name + 'b_dqdt.csv')\n",
    "    c_dqdt_csv = pd.DataFrame(c_dqdt).to_csv(folder_name + 'c_dqdt.csv')\n",
    "    d_dqdt_csv = pd.DataFrame(d_dqdt).to_csv(folder_name + 'd_dqdt.csv')\n",
    "\n",
    "    T_pn_csv = pd.DataFrame(T).to_csv(folder_name + 'T_pn.csv')\n",
    "    a_pn_csv = pd.DataFrame(a_pn).to_csv(folder_name + 'a_pn.csv')\n",
    "    b_pn_csv = pd.DataFrame(b_pn).to_csv(folder_name + 'b_pn.csv')\n",
    "    c_pn_csv = pd.DataFrame(c_pn).to_csv(folder_name + 'c_pn.csv')\n",
    "    d_pn_csv = pd.DataFrame(d_pn).to_csv(folder_name + 'd_pn.csv')\n",
    "\n",
    "    T_np_csv = pd.DataFrame(T).to_csv(folder_name + 'T_np.csv')\n",
    "    a_np_csv = pd.DataFrame(a_np).to_csv(folder_name + 'a_np.csv')\n",
    "    b_np_csv = pd.DataFrame(b_np).to_csv(folder_name + 'b_np.csv')\n",
    "    c_np_csv = pd.DataFrame(c_np).to_csv(folder_name + 'c_np.csv')\n",
    "    d_np_csv = pd.DataFrame(d_np).to_csv(folder_name + 'd_np.csv')\n",
    "\n",
    "    T_rhonu_csv = pd.DataFrame(T).to_csv(folder_name + 'T_rhonu.csv')\n",
    "    a_rhonu_csv = pd.DataFrame(a_rhonu).to_csv(folder_name + 'a_rhonu.csv')\n",
    "    b_rhonu_csv = pd.DataFrame(b_rhonu).to_csv(folder_name + 'b_rhonu.csv')\n",
    "    c_rhonu_csv = pd.DataFrame(c_rhonu).to_csv(folder_name + 'c_rhonu.csv')\n",
    "    d_rhonu_csv = pd.DataFrame(d_rhonu).to_csv(folder_name + 'd_rhonu.csv')\n",
    "    \n",
    "    return folder_name"
   ]
  },
  {
   "cell_type": "code",
   "execution_count": 29,
   "metadata": {},
   "outputs": [
    {
     "name": "stdout",
     "output_type": "stream",
     "text": [
      "Directory exists\n",
      "CSV Files/\n"
     ]
    }
   ],
   "source": [
    "folder = generate_csv('new_movie_arrays.npz', folder_name = \"CSV Files/\")\n",
    "\n",
    "print(folder)"
   ]
  },
  {
   "cell_type": "code",
   "execution_count": 30,
   "metadata": {},
   "outputs": [
    {
     "name": "stdout",
     "output_type": "stream",
     "text": [
      "\n",
      "make: Circular alter_vs.c <- alter_vs.c dependency dropped.\n",
      "\n"
     ]
    }
   ],
   "source": [
    "ev.clean_directory('C:/Users/kathr/Chad_Research_Neutrinos/alterbbn_v2.2', 'alter_vs.c')"
   ]
  },
  {
   "cell_type": "code",
   "execution_count": 31,
   "metadata": {},
   "outputs": [
    {
     "data": {
      "image/png": "[encoded data removed]",
      "text/plain": [
       "<Figure size 432x288 with 1 Axes>"
      ]
     },
     "metadata": {
      "needs_background": "light"
     },
     "output_type": "display_data"
    },
    {
     "data": {
      "image/png": "[encoded data removed]",
      "text/plain": [
       "<Figure size 432x288 with 1 Axes>"
      ]
     },
     "metadata": {
      "needs_background": "light"
     },
     "output_type": "display_data"
    }
   ],
   "source": [
    "ev.output_plots_alter_vs(1e-10, 10e-10, 40, 'C:/Users/kathr/Chad_Research_Neutrinos/alterbbn_v2.2/alter_vs.x')"
   ]
  },
  {
   "cell_type": "code",
   "execution_count": null,
   "metadata": {},
   "outputs": [],
   "source": [
    "ev.clean_directory('C:/Users/kathr/Chad_Research_Neutrinos/alterbbn_v2.2', 'alter_eta_edit.c')"
   ]
  },
  {
   "cell_type": "code",
   "execution_count": null,
   "metadata": {},
   "outputs": [],
   "source": [
    "%time\n",
    "ev.output_plots_alter_eta(1e-10, 10e-10, 40, 'C:/Users/kathr/Chad_Research_Neutrinos/alterbbn_v2.2/alter_eta_edit.x')"
   ]
  },
  {
   "cell_type": "code",
   "execution_count": null,
   "metadata": {},
   "outputs": [],
   "source": [
    "ev.clean_directory('C:/Users/kathr/Chad_Research_Neutrinos/alterbbn_v2.2', 'alter_eta_edit.c')\n",
    "te.delete_file(\"evolution.out\") "
   ]
  },
  {
   "cell_type": "code",
   "execution_count": null,
   "metadata": {},
   "outputs": [],
   "source": [
    "temperature_str_high, Y_n_str_high, Y_p_str_high, Y_2H_str_high, Y_4He_str_high, Y_7Li_str_high, Y_Be7_str_high, eta_value_high = te.eta_element_string(10e-10, 'C:/Users/kathr/Chad_Research_Neutrinos/alterbbn_v2.2/alter_eta_edit.x')\n",
    "\n",
    "temperature_str_med, Y_n_str_med, Y_p_str_med, Y_2H_str_med, Y_4He_str_med, Y_7Li_str_med, Y_Be7_str_med, eta_value_med = te.eta_element_string(3e-10, 'C:/Users/kathr/Chad_Research_Neutrinos/alterbbn_v2.2/alter_eta_edit.x')\n",
    "\n",
    "temperature_str_low, Y_n_str_low, Y_p_str_low, Y_2H_str_low, Y_4He_str_low, Y_7Li_str_low, Y_Be7_str_low, eta_value_low = te.eta_element_string(1e-10, 'C:/Users/kathr/Chad_Research_Neutrinos/alterbbn_v2.2/alter_eta_edit.x')\n",
    "\n",
    "te.generate_plots_eta_element_temp(temperature_str_high, Y_n_str_high, Y_p_str_high, Y_2H_str_high, Y_4He_str_high, Y_7Li_str_high, Y_Be7_str_high, eta_value_high, temperature_str_med, Y_n_str_med, Y_p_str_med, Y_2H_str_med, Y_4He_str_med, Y_7Li_str_med, Y_Be7_str_med, eta_value_med, temperature_str_low, Y_n_str_low, Y_p_str_low, Y_2H_str_low, Y_4He_str_low, Y_7Li_str_low, Y_Be7_str_low, eta_value_low)"
   ]
  },
  {
   "cell_type": "code",
   "execution_count": null,
   "metadata": {},
   "outputs": [],
   "source": [
    "te.delete_file(\"evolution.out\")"
   ]
  },
  {
   "cell_type": "code",
   "execution_count": null,
   "metadata": {},
   "outputs": [],
   "source": [
    "x_n_eq_h, x_p_eq_h, x_2H_eq_h, x_4He_eq_h, x_7Li_eq_h, x_7Be_eq_h, ratio_n_high, ratio_p_high, ratio_2H_high, ratio_4He_high, ratio_7Li_high, ratio_Be7_high  = te.thermo_equal_strings(temperature_str_high, Y_p_str_high, Y_n_str_high, Y_2H_str_high, Y_4He_str_high, Y_7Li_str_high, Y_Be7_str_high, eta_value_high)\n",
    "\n",
    "x_n_eq_m, x_p_eq_m, x_2H_eq_m, x_4He_eq_m, x_7Li_eq_m, x_7Be_eq_m, ratio_n_med, ratio_p_med, ratio_2H_med, ratio_4He_med, ratio_7Li_med, ratio_Be7_med  = te.thermo_equal_strings(temperature_str_med, Y_p_str_med, Y_n_str_med, Y_2H_str_med, Y_4He_str_med, Y_7Li_str_med, Y_Be7_str_med, eta_value_med)\n",
    "\n",
    "x_n_eq_L, x_p_eq_L, x_2H_eq_L, x_4He_eq_L, x_7Li_eq_L, x_7Be_eq_L, ratio_n_low, ratio_p_low, ratio_2H_low, ratio_4He_low, ratio_7Li_low, ratio_Be7_low  = te.thermo_equal_strings(temperature_str_low, Y_p_str_low, Y_n_str_low, Y_2H_str_low, Y_4He_str_low, Y_7Li_str_low, Y_Be7_str_low, eta_value_low)\n",
    "\n",
    "te.generate_thermo_equal_plots(Y_n_str_high, Y_p_str_high, Y_2H_str_high, Y_4He_str_high, Y_7Li_str_high, Y_Be7_str_high, eta_value_high, Y_n_str_med, Y_p_str_med, Y_2H_str_med, Y_4He_str_med, Y_7Li_str_med, Y_Be7_str_med, eta_value_med, Y_n_str_low, Y_p_str_low, Y_2H_str_low, Y_4He_str_low, Y_7Li_str_low, Y_Be7_str_low, temperature_str_high, temperature_str_med, temperature_str_low, x_n_eq_h, x_p_eq_h, x_2H_eq_h, x_4He_eq_h, x_7Li_eq_h, x_7Be_eq_h, x_n_eq_m, x_p_eq_m, x_2H_eq_m, x_4He_eq_m, x_7Li_eq_m, x_7Be_eq_m, x_n_eq_L, x_p_eq_L, x_2H_eq_L, x_4He_eq_L, x_7Li_eq_L, x_7Be_eq_L)"
   ]
  },
  {
   "cell_type": "code",
   "execution_count": null,
   "metadata": {},
   "outputs": [],
   "source": [
    "te.ratio_plots(temperature_str_high, temperature_str_med, temperature_str_low, ratio_n_high, ratio_p_high, ratio_2H_high, ratio_4He_high, ratio_7Li_high, ratio_Be7_high,  ratio_n_med, ratio_p_med, ratio_2H_med, ratio_4He_med, ratio_7Li_med, ratio_Be7_med, ratio_n_low, ratio_p_low, ratio_2H_low, ratio_4He_low, ratio_7Li_low, ratio_Be7_low)"
   ]
  },
  {
   "cell_type": "code",
   "execution_count": null,
   "metadata": {},
   "outputs": [],
   "source": [
    "y_n_h, y_2h_h, y_50_2h_h, y_4he_h, y_n_m, y_2h_m, y_50_2h_m, y_4he_m = te.mass_frac_str(Y_n_str_high, Y_2H_str_high, Y_4He_str_high, Y_n_str_med, Y_2H_str_med, Y_4He_str_med)"
   ]
  },
  {
   "cell_type": "code",
   "execution_count": null,
   "metadata": {},
   "outputs": [],
   "source": [
    "te.CompareHighMedMassFrac_seperate_plots(temperature_str_high, temperature_str_med, y_n_h, y_2h_h, y_50_2h_h, y_4he_h, y_n_m, y_2h_m, y_50_2h_m, y_4he_m)\n",
    "te.CompareHighMedMassFrac(temperature_str_high, temperature_str_med, y_n_h, y_2h_h, y_50_2h_h, y_4he_h, y_n_m, y_2h_m, y_50_2h_m, y_4he_m)"
   ]
  },
  {
   "cell_type": "code",
   "execution_count": null,
   "metadata": {},
   "outputs": [],
   "source": [
    "te.Li_Be_seperate_plots(temperature_str_high, temperature_str_med, temperature_str_low, Y_7Li_str_high, Y_7Li_str_med, Y_7Li_str_low, Y_Be7_str_high, Y_Be7_str_med, Y_Be7_str_low)\n",
    "te.Li_Be(temperature_str_high, temperature_str_med, temperature_str_low, Y_7Li_str_high, Y_7Li_str_med, Y_7Li_str_low, Y_Be7_str_high, Y_Be7_str_med, Y_Be7_str_low)"
   ]
  },
  {
   "cell_type": "code",
   "execution_count": null,
   "metadata": {},
   "outputs": [],
   "source": [
    "te.delete_file(\"folder\" + \"T_dqdt.csv\")\n",
    "te.delete_file(\"folder\" + \"a_dqdt.csv\")\n",
    "te.delete_file(\"folder\" + \"b_dqdt.csv\")\n",
    "te.delete_file(\"folder\" + \"c_dqdt.csv\")\n",
    "te.delete_file(\"folder\" + \"d_dqdt.csv\")\n",
    "\n",
    "te.delete_file(\"folder\" + \"T_pn.csv\")\n",
    "te.delete_file(\"folder\" + \"a_pn.csv\")\n",
    "te.delete_file(\"folder\" + \"b_pn.csv\")\n",
    "te.delete_file(\"folder\" + \"c_pn.csv\")\n",
    "te.delete_file(\"folder\" + \"d_pn.csv\")\n",
    "\n",
    "te.delete_file(\"folder\" + \"T_np.csv\")\n",
    "te.delete_file(\"folder\" + \"a_np.csv\")\n",
    "te.delete_file(\"folder\" + \"b_np.csv\")\n",
    "te.delete_file(\"folder\" + \"c_np.csv\")\n",
    "te.delete_file(\"folder\" + \"d_np.csv\")\n",
    "\n",
    "te.delete_file(\"folder\" + \"T_rhonu.csv\")\n",
    "te.delete_file(\"folder\" + \"a_rhonu.csv\")\n",
    "te.delete_file(\"folder\" + \"b_rhonu.csv\")\n",
    "te.delete_file(\"folder\" + \"c_rhonu.csv\")\n",
    "te.delete_file(\"folder\" + \"d_rhonu.csv\")"
   ]
  },
  {
   "cell_type": "code",
   "execution_count": null,
   "metadata": {},
   "outputs": [],
   "source": []
  }
 ],
 "metadata": {
  "kernelspec": {
   "display_name": "Python 3",
   "language": "python",
   "name": "python3"
  },
  "language_info": {
   "codemirror_mode": {
    "name": "ipython",
    "version": 3
   },
   "file_extension": ".py",
   "mimetype": "text/x-python",
   "name": "python",
   "nbconvert_exporter": "python",
   "pygments_lexer": "ipython3",
   "version": "3.7.6"
  }
 },
 "nbformat": 4,
 "nbformat_minor": 4
}
