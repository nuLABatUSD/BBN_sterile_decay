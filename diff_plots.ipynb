{
 "cells": [
  {
   "cell_type": "code",
   "execution_count": 1,
   "id": "996fad3f",
   "metadata": {},
   "outputs": [],
   "source": [
    "is_Mac = True"
   ]
  },
  {
   "cell_type": "code",
   "execution_count": 2,
   "id": "d58fbf82",
   "metadata": {},
   "outputs": [],
   "source": [
    "import numpy as np\n",
    "import pandas as pd\n",
    "import matplotlib.pyplot as plt\n",
    "import subprocess\n",
    "from pathlib import Path\n",
    "import glob\n",
    "import itertools\n",
    "import matplotlib.animation as ani\n",
    "import os"
   ]
  },
  {
   "cell_type": "code",
   "execution_count": 3,
   "id": "0ae4c961",
   "metadata": {},
   "outputs": [],
   "source": [
    "def GK_to_MeV(k):\n",
    "    kelvin = k*(10**9)\n",
    "    MeV = kelvin*8.61732814974493e-11\n",
    "    return MeV\n",
    "\n",
    "def kg_to_MeV(k):\n",
    "    MeV = k*5.6095861672249e29\n",
    "    return MeV"
   ]
  },
  {
   "cell_type": "code",
   "execution_count": 34,
   "id": "75214bc1",
   "metadata": {},
   "outputs": [],
   "source": [
    "# enter your file directory for alterbbn_v2.2 \n",
    "if not is_Mac:\n",
    "    run_directory_h = 'C:/Users/kathr/Chad_Research_Neutrinos/alterbbn_v2.2_hannah/alter_vs.x'\n",
    "    shell_val = True\n",
    "    directory_h = 'C:/Users/kathr/Chad_Research_Neutrinos/alterbbn_v2.2_hannah'\n",
    "    run_directory = 'C:/Users/kathr/Chad_Research_Neutrinos/alterbbn_v2.2/alter_vs.x'\n",
    "    directory_h = 'C:/Users/kathr/Chad_Research_Neutrinos/alterbbn_v2.2'\n",
    "else:\n",
    "    run_directory_h = './alterbbn_v2.2_hannah/alter_vs.x'\n",
    "    shell_val = False\n",
    "    directory_h = 'alterbbn_v2.2_hannah'\n",
    "    run_directory = './alterbbn_v2.2/alter_vs.x'\n",
    "    directory = 'alterbbn_v2.2'\n"
   ]
  },
  {
   "cell_type": "code",
   "execution_count": 35,
   "id": "0d98f767",
   "metadata": {},
   "outputs": [],
   "source": [
    "check_file = Path(\"evolution_vs.out\")\n",
    " \n",
    "if check_file.is_file():\n",
    "        os.remove(check_file)   "
   ]
  },
  {
   "cell_type": "code",
   "execution_count": 60,
   "id": "6006ed4b",
   "metadata": {},
   "outputs": [],
   "source": [
    "dqdt_csv = np.loadtxt(\"alterbbn_v2.2/CSV Files/d_dqdt.csv\", delimiter=',', usecols=1, unpack=True)[1:]\n",
    "T_csv = np.loadtxt(\"alterbbn_v2.2/CSV Files/T_dqdt.csv\", delimiter=',', usecols=1, unpack=True)[2:]"
   ]
  },
  {
   "cell_type": "code",
   "execution_count": 61,
   "id": "572b8113",
   "metadata": {},
   "outputs": [
    {
     "data": {
      "text/plain": [
       "((253,), (253,))"
      ]
     },
     "execution_count": 61,
     "metadata": {},
     "output_type": "execute_result"
    }
   ],
   "source": [
    "dqdt_csv.shape, T_csv.shape"
   ]
  },
  {
   "cell_type": "code",
   "execution_count": 65,
   "id": "d5065961",
   "metadata": {},
   "outputs": [],
   "source": [
    "def run_new_code(csv):\n",
    "    if csv:\n",
    "        direc = directory\n",
    "        run_direc = run_directory\n",
    "    else:\n",
    "        direc = directory_h\n",
    "        run_direc = run_directory_h\n",
    "    ch = subprocess.run(['make','-C', direc, 'clean'], capture_output = True, text = True, shell = shell_val)\n",
    "    sh = subprocess.run(['make', '-C', direc, 'alter_vs.c'], capture_output = True, text = True, shell = shell_val) ##make clean and make stuff\n",
    "    print(ch.stderr)\n",
    "    print(sh.stderr)\n",
    "    \n",
    "    command = [run_direc, \"14.87365053664758\", \"6.1e-10\", \"1\", \"255\", \"104.56255360706342\", \"300\", \"7e-05\"]\n",
    "    d = subprocess.run(command, capture_output = True, text = True, shell = shell_val)\n",
    "    print(d.stderr)\n",
    "    \n",
    "    return make_arrays()\n",
    "\n",
    "def make_arrays():\n",
    "    text = open('evolution_vs.out', \"r\").readlines()\n",
    "\n",
    "    aa = text[0]\n",
    "    dict_temp = aa.split(',')\n",
    "    dict_temp = [x.strip(' ') for x in dict_temp]\n",
    "    #print(dict_temp)\n",
    "\n",
    "    df = pd.DataFrame(columns = dict_temp)\n",
    "    #print(df)\n",
    "    for i in range(1, len(text)):\n",
    "        a = text[i]\n",
    "        b = a.split(',')\n",
    "        df.loc[i] = b\n",
    "\n",
    "    df = df.replace({'\\n':''},regex=True)\n",
    "    df = df.apply(pd.to_numeric)\n",
    "    \n",
    "    T = df['T (MeV)'].to_numpy()\n",
    "    Tnu = df['Tnu (MeV)'].to_numpy()\n",
    "    dQdt = df['sigma_rad (MeV^4)'].to_numpy() * T\n",
    "    \n",
    "    plt.figure()\n",
    "    plt.semilogx(T, T/Tnu)\n",
    "    plt.xlim(max(T), min(T))\n",
    "    \n",
    "    plt.figure()\n",
    "    plt.loglog(T, np.abs(dQdt))\n",
    "    plt.loglog(T_csv, dqdt_csv, 'o')\n",
    "    plt.xlim(max(T), min(T))\n",
    "    return T, Tnu, dQdt"
   ]
  },
  {
   "cell_type": "code",
   "execution_count": 66,
   "id": "e40a4e77",
   "metadata": {},
   "outputs": [
    {
     "name": "stdout",
     "output_type": "stream",
     "text": [
      "\n",
      "make: Circular alter_vs.c <- alter_vs.c dependency dropped.\n",
      "bbn_constraints.c:18:2: warning: array index 4 is past the end of the array (which contains 4 elements) [-Warray-bounds]\n",
      "        translate[4]=5;  // He3_H=ratioH[5]\n",
      "        ^         ~\n",
      "bbn_constraints.c:13:5: note: array 'translate' declared here\n",
      "    int translate[4];\n",
      "    ^\n",
      "1 warning generated.\n",
      "\n",
      "\n"
     ]
    },
    {
     "data": {
      "image/png": "[encoded data removed]",
      "text/plain": [
       "<Figure size 432x288 with 1 Axes>"
      ]
     },
     "metadata": {
      "needs_background": "light"
     },
     "output_type": "display_data"
    },
    {
     "data": {
      "image/png": "[encoded data removed]",
      "text/plain": [
       "<Figure size 432x288 with 1 Axes>"
      ]
     },
     "metadata": {
      "needs_background": "light"
     },
     "output_type": "display_data"
    }
   ],
   "source": [
    "res = run_new_code(True)"
   ]
  },
  {
   "cell_type": "code",
   "execution_count": 67,
   "id": "4c79c8fa",
   "metadata": {},
   "outputs": [
    {
     "name": "stdout",
     "output_type": "stream",
     "text": [
      "\n",
      "make: Circular alter_vs.c <- alter_vs.c dependency dropped.\n",
      "bbn_constraints.c:18:2: warning: array index 4 is past the end of the array (which contains 4 elements) [-Warray-bounds]\n",
      "        translate[4]=5;  // He3_H=ratioH[5]\n",
      "        ^         ~\n",
      "bbn_constraints.c:13:5: note: array 'translate' declared here\n",
      "    int translate[4];\n",
      "    ^\n",
      "1 warning generated.\n",
      "\n",
      "\n"
     ]
    },
    {
     "data": {
      "image/png": "[encoded data removed]",
      "text/plain": [
       "<Figure size 432x288 with 1 Axes>"
      ]
     },
     "metadata": {
      "needs_background": "light"
     },
     "output_type": "display_data"
    },
    {
     "data": {
      "image/png": "[encoded data removed]",
      "text/plain": [
       "<Figure size 432x288 with 1 Axes>"
      ]
     },
     "metadata": {
      "needs_background": "light"
     },
     "output_type": "display_data"
    }
   ],
   "source": [
    "res_h = run_new_code(False)"
   ]
  }
 ],
 "metadata": {
  "kernelspec": {
   "display_name": "Python 3",
   "language": "python",
   "name": "python3"
  },
  "language_info": {
   "codemirror_mode": {
    "name": "ipython",
    "version": 3
   },
   "file_extension": ".py",
   "mimetype": "text/x-python",
   "name": "python",
   "nbconvert_exporter": "python",
   "pygments_lexer": "ipython3",
   "version": "3.8.8"
  }
 },
 "nbformat": 4,
 "nbformat_minor": 5
}
