{
 "cells": [
  {
   "cell_type": "code",
   "execution_count": 204,
   "metadata": {},
   "outputs": [],
   "source": [
    "import subprocess\n",
    "import numpy as np\n",
    "import matplotlib.pyplot as plt"
   ]
  },
  {
   "cell_type": "markdown",
   "metadata": {},
   "source": [
    "## Starting Example"
   ]
  },
  {
   "cell_type": "code",
   "execution_count": 205,
   "metadata": {},
   "outputs": [],
   "source": [
    "result = subprocess.run(['C:/Users/kathr/Downloads/alterbbn_v2.2/stand_cosmo.x', '3'], capture_output = True, text = True)"
   ]
  },
  {
   "cell_type": "code",
   "execution_count": 206,
   "metadata": {},
   "outputs": [],
   "source": [
    "#print(result.stdout)"
   ]
  },
  {
   "cell_type": "code",
   "execution_count": 207,
   "metadata": {},
   "outputs": [],
   "source": [
    "result_str = result.stdout"
   ]
  },
  {
   "cell_type": "code",
   "execution_count": 208,
   "metadata": {},
   "outputs": [],
   "source": [
    "result_splt = result_str.split('\\t')"
   ]
  },
  {
   "cell_type": "code",
   "execution_count": 209,
   "metadata": {},
   "outputs": [
    {
     "data": {
      "text/plain": [
       "' 2.474e-01'"
      ]
     },
     "execution_count": 209,
     "metadata": {},
     "output_type": "execute_result"
    }
   ],
   "source": [
    "result_splt[12]"
   ]
  },
  {
   "cell_type": "markdown",
   "metadata": {},
   "source": [
    "## Using alter_eta.c"
   ]
  },
  {
   "cell_type": "code",
   "execution_count": 210,
   "metadata": {
    "scrolled": true
   },
   "outputs": [],
   "source": [
    "nu = np.linspace(1e-10, 10e-10, 40)\n",
    "\n",
    "Yp = np.zeros(len(nu))\n",
    "H2_H = np.zeros(len(nu))\n",
    "He3_H = np.zeros(len(nu))\n",
    "Li7_H = np.zeros(len(nu))\n",
    "Li6_H = np.zeros(len(nu))\n",
    "Be7_H = np.zeros(len(nu))\n",
    "\n",
    "a = 0\n",
    "\n",
    "for i in nu:\n",
    "    d = subprocess.run(['C:/Users/kathr/Downloads/alterbbn_v2.2/alter_eta_edit.x', str(i)], capture_output = True, text = True)\n",
    "    x = d.stdout\n",
    "    s = x.split('\\t')\n",
    "    \n",
    "    Yp[a] = float(s[12])\n",
    "    H2_H[a] = float(s[13])\n",
    "    He3_H[a] = float(s[14])\n",
    "    Li7_H[a] = float(s[15])\n",
    "    Li6_H[a] = float(s[16])\n",
    "    #Be7_H[a] = float(s[17])\n",
    "    a += 1\n"
   ]
  },
  {
   "cell_type": "code",
   "execution_count": 202,
   "metadata": {},
   "outputs": [
    {
     "data": {
      "image/png": "[encoded data removed]",
      "text/plain": [
       "<Figure size 432x288 with 1 Axes>"
      ]
     },
     "metadata": {
      "needs_background": "light"
     },
     "output_type": "display_data"
    },
    {
     "data": {
      "image/png": "[encoded data removed]",
      "text/plain": [
       "<Figure size 432x288 with 1 Axes>"
      ]
     },
     "metadata": {
      "needs_background": "light"
     },
     "output_type": "display_data"
    }
   ],
   "source": [
    "#print(Li7_H)\n",
    "plt.figure()\n",
    "plt.loglog(nu, Li7_H)\n",
    "plt.ylabel('Li7/H')\n",
    "plt.xlabel('$\\eta_0$')\n",
    "plt.ylim(10e-11, 10e-9)\n",
    "plt.xlim(1e-10, 10e-10)\n",
    "plt.show()\n",
    "\n",
    "plt.figure()\n",
    "plt.loglog(nu, He3_H)\n",
    "plt.ylabel('He3/H')\n",
    "plt.xlabel('$\\eta_0$')\n",
    "plt.ylim(10e-7, 10e-4)\n",
    "plt.xlim(1e-10, 10e-10)\n",
    "plt.show()"
   ]
  },
  {
   "cell_type": "code",
   "execution_count": null,
   "metadata": {},
   "outputs": [],
   "source": []
  },
  {
   "cell_type": "code",
   "execution_count": null,
   "metadata": {},
   "outputs": [],
   "source": []
  }
 ],
 "metadata": {
  "kernelspec": {
   "display_name": "Python 3",
   "language": "python",
   "name": "python3"
  },
  "language_info": {
   "codemirror_mode": {
    "name": "ipython",
    "version": 3
   },
   "file_extension": ".py",
   "mimetype": "text/x-python",
   "name": "python",
   "nbconvert_exporter": "python",
   "pygments_lexer": "ipython3",
   "version": "3.7.6"
  }
 },
 "nbformat": 4,
 "nbformat_minor": 4
}
