{
 "cells": [
  {
   "cell_type": "code",
   "execution_count": 7,
   "metadata": {},
   "outputs": [],
   "source": [
    "#import var_code as VC\n",
    "import numpy as np\n",
    "import numba as nb\n",
    "import os\n",
    "from scipy.interpolate import CubicSpline\n",
    "import pandas as pd\n",
    "import BeginnersGraphs as ev\n",
    "import CuteGraphs as te\n",
    "import matplotlib.pyplot as plt\n",
    "from IPython.core.display import Image, display"
   ]
  },
  {
   "cell_type": "code",
   "execution_count": 8,
   "metadata": {},
   "outputs": [],
   "source": [
    "def delete_csv_files(folder_name):\n",
    "    te.delete_file(folder_name + \"T_dqdt.csv\")\n",
    "    te.delete_file(folder_name + \"a_dqdt.csv\")\n",
    "    te.delete_file(folder_name + \"b_dqdt.csv\")\n",
    "    te.delete_file(folder_name + \"c_dqdt.csv\")\n",
    "    te.delete_file(folder_name + \"d_dqdt.csv\")\n",
    "\n",
    "    te.delete_file(folder_name + \"T_pn.csv\")\n",
    "    te.delete_file(folder_name + \"a_pn.csv\")\n",
    "    te.delete_file(folder_name + \"b_pn.csv\")\n",
    "    te.delete_file(folder_name + \"c_pn.csv\")\n",
    "    te.delete_file(folder_name + \"d_pn.csv\")\n",
    "\n",
    "    te.delete_file(folder_name + \"T_np.csv\")\n",
    "    te.delete_file(folder_name + \"a_np.csv\")\n",
    "    te.delete_file(folder_name + \"b_np.csv\")\n",
    "    te.delete_file(folder_name + \"c_np.csv\")\n",
    "    te.delete_file(folder_name + \"d_np.csv\")\n",
    "\n",
    "    te.delete_file(folder_name + \"T_rhonu.csv\")\n",
    "    te.delete_file(folder_name + \"a_rhonu.csv\")\n",
    "    te.delete_file(folder_name + \"b_rhonu.csv\")\n",
    "    te.delete_file(folder_name + \"c_rhonu.csv\")\n",
    "    te.delete_file(folder_name + \"d_rhonu.csv\")"
   ]
  },
  {
   "cell_type": "code",
   "execution_count": 13,
   "metadata": {},
   "outputs": [],
   "source": [
    "def generate_csv(npz_file, folder_name = \" \", save = True):\n",
    "    load_data = np.load(npz_file)\n",
    "\n",
    "    T = load_data['T']\n",
    "    Tcm = load_data['Tcm']\n",
    "    dqdt = load_data['dQdt']\n",
    "    #dqdt = np.nan_to_num(dQdt, copy=True, nan=0.0, posinf=None, neginf=None)\n",
    "    \n",
    "    #plt.figure()\n",
    "    #plt.plot(T, dqdt)\n",
    "    #plt.show()\n",
    "    \n",
    "    pn = load_data['pn']\n",
    "    NP = load_data['np']\n",
    "    rhonu = load_data['rhonu']\n",
    "\n",
    "    T_reversed = T[::-1]\n",
    "    Tcm_reversed = Tcm[::-1]\n",
    "    dqdt_reversed = dqdt[::-1]\n",
    "    pn_reversed = pn[::-1]\n",
    "    np_reversed = NP[::-1]\n",
    "    rhonu_reversed = rhonu[::-1]\n",
    "\n",
    "    #print(np.log(pn_reversed[1:]))\n",
    "    #print(np.log(np_reversed))\n",
    "    T_fit_pn = CubicSpline(T_reversed[1:], np.log(pn_reversed[1:])) #cubic spline fit \n",
    "    T_fit_np = CubicSpline(T_reversed, np.log(np_reversed)) #cubic spline fit \n",
    "    \n",
    "    T_fit_dqdt = CubicSpline(T_reversed[:-1], dqdt_reversed[:-1]) #cubic spline fit \n",
    "    #T_fit_pn = CubicSpline(T_reversed, pn_reversed) #cubic spline fit \n",
    "    #T_fit_np = CubicSpline(T_reversed, np_reversed) #cubic spline fit \n",
    "    Tcm_fit_rhonu = CubicSpline(Tcm_reversed, rhonu_reversed) #cubic spline fit \n",
    "    \n",
    "    #determine coefficients\n",
    "    d_dqdt = T_fit_dqdt(T)\n",
    "    c_dqdt = T_fit_dqdt(T,1)\n",
    "    b_dqdt = T_fit_dqdt(T,2)*.5\n",
    "    a_dqdt = T_fit_dqdt(T,3)*(1/6)\n",
    "            \n",
    "    d_pn = T_fit_pn(T)\n",
    "    c_pn = T_fit_pn(T,1)\n",
    "    b_pn = T_fit_pn(T,2)*.5\n",
    "    a_pn = T_fit_pn(T,3)*(1/6)\n",
    "\n",
    "    d_np = T_fit_np(T)\n",
    "    c_np = T_fit_np(T,1)\n",
    "    b_np = T_fit_np(T,2)*.5\n",
    "    a_np = T_fit_np(T,3)*(1/6)\n",
    "\n",
    "    d_rhonu = Tcm_fit_rhonu(Tcm)\n",
    "    c_rhonu = Tcm_fit_rhonu(Tcm,1)\n",
    "    b_rhonu = Tcm_fit_rhonu(Tcm,2)*.5\n",
    "    a_rhonu = Tcm_fit_rhonu(Tcm,3)*(1/6)\n",
    "    \n",
    "    try:\n",
    "        os.mkdir(folder_name)\n",
    "    except OSError as e:\n",
    "        print(\"Directory exists\")\n",
    "        \n",
    "    delete_csv_files(folder_name)\n",
    "    \n",
    "    T_dqdt_csv = pd.DataFrame(T).to_csv(folder_name + 'T_dqdt.csv')\n",
    "    a_dqdt_csv = pd.DataFrame(a_dqdt).to_csv(folder_name + 'a_dqdt.csv')\n",
    "    b_dqdt_csv = pd.DataFrame(b_dqdt).to_csv(folder_name + 'b_dqdt.csv')\n",
    "    c_dqdt_csv = pd.DataFrame(c_dqdt).to_csv(folder_name + 'c_dqdt.csv')\n",
    "    d_dqdt_csv = pd.DataFrame(d_dqdt).to_csv(folder_name + 'd_dqdt.csv')\n",
    "\n",
    "    T_pn_csv = pd.DataFrame(T).to_csv(folder_name + 'T_pn.csv')\n",
    "    a_pn_csv = pd.DataFrame(a_pn).to_csv(folder_name + 'a_pn.csv')\n",
    "    b_pn_csv = pd.DataFrame(b_pn).to_csv(folder_name + 'b_pn.csv')\n",
    "    c_pn_csv = pd.DataFrame(c_pn).to_csv(folder_name + 'c_pn.csv')\n",
    "    d_pn_csv = pd.DataFrame(d_pn).to_csv(folder_name + 'd_pn.csv')\n",
    "\n",
    "    T_np_csv = pd.DataFrame(T).to_csv(folder_name + 'T_np.csv')\n",
    "    a_np_csv = pd.DataFrame(a_np).to_csv(folder_name + 'a_np.csv')\n",
    "    b_np_csv = pd.DataFrame(b_np).to_csv(folder_name + 'b_np.csv')\n",
    "    c_np_csv = pd.DataFrame(c_np).to_csv(folder_name + 'c_np.csv')\n",
    "    d_np_csv = pd.DataFrame(d_np).to_csv(folder_name + 'd_np.csv')\n",
    "\n",
    "    Tcm_rhonu_csv = pd.DataFrame(Tcm).to_csv(folder_name + 'T_rhonu.csv')\n",
    "    a_rhonu_csv = pd.DataFrame(a_rhonu).to_csv(folder_name + 'a_rhonu.csv')\n",
    "    b_rhonu_csv = pd.DataFrame(b_rhonu).to_csv(folder_name + 'b_rhonu.csv')\n",
    "    c_rhonu_csv = pd.DataFrame(c_rhonu).to_csv(folder_name + 'c_rhonu.csv')\n",
    "    d_rhonu_csv = pd.DataFrame(d_rhonu).to_csv(folder_name + 'd_rhonu.csv')\n",
    "    \n",
    "    if save == True:\n",
    "        np.savez(folder_name + \"csvFiles.npz\", *[T, Tcm, a_dqdt, b_dqdt, c_dqdt, d_dqdt, a_pn, b_pn, c_pn, d_pn, a_np, b_np, c_np, d_np, a_rhonu, b_rhonu, c_rhonu, d_rhonu])\n",
    "    \n",
    "    return folder_name"
   ]
  },
  {
   "cell_type": "code",
   "execution_count": 14,
   "metadata": {},
   "outputs": [
    {
     "name": "stdout",
     "output_type": "stream",
     "text": [
      "Directory exists\n"
     ]
    }
   ],
   "source": [
    "folder = generate_csv('newer_movie_arrays.npz', folder_name = \"CSVFiles/\", save = True)\n",
    "#print(folder)"
   ]
  },
  {
   "cell_type": "code",
   "execution_count": 15,
   "metadata": {},
   "outputs": [
    {
     "name": "stdout",
     "output_type": "stream",
     "text": [
      "\n",
      "make: Circular alter_vs.c <- alter_vs.c dependency dropped.\n",
      "\n"
     ]
    }
   ],
   "source": [
    "#CSV_Files is Hannah's files\n",
    "ev.clean_directory('C:/Users/kathr/Chad_Research_Neutrinos/alterbbn_v2.2', 'alter_vs.c')\n",
    "te.delete_file(\"evolution_vs.out\")"
   ]
  },
  {
   "cell_type": "code",
   "execution_count": 16,
   "metadata": {},
   "outputs": [
    {
     "data": {
      "image/png": "[encoded data removed]",
      "text/plain": [
       "<Figure size 432x288 with 1 Axes>"
      ]
     },
     "metadata": {
      "needs_background": "light"
     },
     "output_type": "display_data"
    },
    {
     "data": {
      "image/png": "[encoded data removed]",
      "text/plain": [
       "<Figure size 432x288 with 1 Axes>"
      ]
     },
     "metadata": {
      "needs_background": "light"
     },
     "output_type": "display_data"
    }
   ],
   "source": [
    "ev.output_plots_alter_vs(1e-10, 10e-10, 40, 'C:/Users/kathr/Chad_Research_Neutrinos/alterbbn_v2.2/alter_vs.x', '14.87365053664758', '255', '104.56255360706342', '300', '7e-05')\n",
    "plt.show()"
   ]
  },
  {
   "cell_type": "code",
   "execution_count": 7,
   "metadata": {},
   "outputs": [
    {
     "data": {
      "image/jpeg": "[encoded data removed]",
      "text/plain": [
       "<IPython.core.display.Image object>"
      ]
     },
     "metadata": {},
     "output_type": "display_data"
    },
    {
     "data": {
      "image/jpeg": "[encoded data removed]",
      "text/plain": [
       "<IPython.core.display.Image object>"
      ]
     },
     "metadata": {},
     "output_type": "display_data"
    }
   ],
   "source": [
    "display(Image('C:/Users/kathr/Chad_Research_Neutrinos/alterbbn_v2.2/Li7.jpg'))\n",
    "display(Image('C:/Users/kathr/Chad_Research_Neutrinos/alterbbn_v2.2/He3.jpg'))"
   ]
  },
  {
   "cell_type": "code",
   "execution_count": 8,
   "metadata": {},
   "outputs": [
    {
     "name": "stdout",
     "output_type": "stream",
     "text": [
      "there is a file!\n"
     ]
    },
    {
     "ename": "ValueError",
     "evalue": "Unable to parse string \"-nan\" at position 73",
     "output_type": "error",
     "traceback": [
      "\u001b[1;31m---------------------------------------------------------------------------\u001b[0m",
      "\u001b[1;31mValueError\u001b[0m                                Traceback (most recent call last)",
      "\u001b[1;32mpandas\\_libs\\lib.pyx\u001b[0m in \u001b[0;36mpandas._libs.lib.maybe_convert_numeric\u001b[1;34m()\u001b[0m\n",
      "\u001b[1;31mValueError\u001b[0m: Unable to parse string \"-nan\"",
      "\nDuring handling of the above exception, another exception occurred:\n",
      "\u001b[1;31mValueError\u001b[0m                                Traceback (most recent call last)",
      "\u001b[1;32m<ipython-input-8-be48199f0299>\u001b[0m in \u001b[0;36m<module>\u001b[1;34m\u001b[0m\n\u001b[1;32m----> 1\u001b[1;33m \u001b[0mtemperature_str_high\u001b[0m\u001b[1;33m,\u001b[0m \u001b[0mtemperature_nu_str_high\u001b[0m\u001b[1;33m,\u001b[0m \u001b[0mdqdt_str_high\u001b[0m\u001b[1;33m,\u001b[0m \u001b[0mrhonu_str_high\u001b[0m\u001b[1;33m,\u001b[0m \u001b[0mY_n_str_high\u001b[0m\u001b[1;33m,\u001b[0m \u001b[0mY_p_str_high\u001b[0m\u001b[1;33m,\u001b[0m \u001b[0mY_2H_str_high\u001b[0m\u001b[1;33m,\u001b[0m \u001b[0mY_4He_str_high\u001b[0m\u001b[1;33m,\u001b[0m \u001b[0mY_7Li_str_high\u001b[0m\u001b[1;33m,\u001b[0m \u001b[0mY_Be7_str_high\u001b[0m\u001b[1;33m,\u001b[0m \u001b[0meta_value_high\u001b[0m\u001b[1;33m,\u001b[0m \u001b[0mnp_str_high\u001b[0m\u001b[1;33m,\u001b[0m \u001b[0mpn_str_high\u001b[0m \u001b[1;33m=\u001b[0m \u001b[0mte\u001b[0m\u001b[1;33m.\u001b[0m\u001b[0meta_element_string_vs\u001b[0m\u001b[1;33m(\u001b[0m\u001b[1;36m10e-10\u001b[0m\u001b[1;33m,\u001b[0m \u001b[1;34m'C:/Users/kathr/Chad_Research_Neutrinos/alterbbn_v2.2/alter_vs.x'\u001b[0m\u001b[1;33m,\u001b[0m \u001b[1;34m'14.87365053664758'\u001b[0m\u001b[1;33m)\u001b[0m\u001b[1;33m\u001b[0m\u001b[1;33m\u001b[0m\u001b[0m\n\u001b[0m\u001b[0;32m      2\u001b[0m \u001b[1;33m\u001b[0m\u001b[0m\n\u001b[0;32m      3\u001b[0m \u001b[0mtemperature_str_med\u001b[0m\u001b[1;33m,\u001b[0m \u001b[0mtemperature_nu_str_med\u001b[0m\u001b[1;33m,\u001b[0m \u001b[0mdqdt_str_med\u001b[0m\u001b[1;33m,\u001b[0m \u001b[0mrhonu_str_med\u001b[0m\u001b[1;33m,\u001b[0m \u001b[0mY_n_str_med\u001b[0m\u001b[1;33m,\u001b[0m \u001b[0mY_p_str_med\u001b[0m\u001b[1;33m,\u001b[0m \u001b[0mY_2H_str_med\u001b[0m\u001b[1;33m,\u001b[0m \u001b[0mY_4He_str_med\u001b[0m\u001b[1;33m,\u001b[0m \u001b[0mY_7Li_str_med\u001b[0m\u001b[1;33m,\u001b[0m \u001b[0mY_Be7_str_med\u001b[0m\u001b[1;33m,\u001b[0m \u001b[0meta_value_med\u001b[0m\u001b[1;33m,\u001b[0m \u001b[0mnp_str_med\u001b[0m\u001b[1;33m,\u001b[0m \u001b[0mpn_str_med\u001b[0m \u001b[1;33m=\u001b[0m \u001b[0mte\u001b[0m\u001b[1;33m.\u001b[0m\u001b[0meta_element_string_vs\u001b[0m\u001b[1;33m(\u001b[0m\u001b[1;36m3e-10\u001b[0m\u001b[1;33m,\u001b[0m \u001b[1;34m'C:/Users/kathr/Chad_Research_Neutrinos/alterbbn_v2.2/alter_vs.x'\u001b[0m\u001b[1;33m,\u001b[0m \u001b[1;34m'14.87365053664758'\u001b[0m\u001b[1;33m)\u001b[0m\u001b[1;33m\u001b[0m\u001b[1;33m\u001b[0m\u001b[0m\n\u001b[0;32m      4\u001b[0m \u001b[1;33m\u001b[0m\u001b[0m\n\u001b[0;32m      5\u001b[0m \u001b[0mtemperature_str_low\u001b[0m\u001b[1;33m,\u001b[0m \u001b[0mtemperature_nu_str_low\u001b[0m\u001b[1;33m,\u001b[0m \u001b[0mdqdt_str_low\u001b[0m\u001b[1;33m,\u001b[0m \u001b[0mrhonu_str_low\u001b[0m\u001b[1;33m,\u001b[0m \u001b[0mY_n_str_low\u001b[0m\u001b[1;33m,\u001b[0m \u001b[0mY_p_str_low\u001b[0m\u001b[1;33m,\u001b[0m \u001b[0mY_2H_str_low\u001b[0m\u001b[1;33m,\u001b[0m \u001b[0mY_4He_str_low\u001b[0m\u001b[1;33m,\u001b[0m \u001b[0mY_7Li_str_low\u001b[0m\u001b[1;33m,\u001b[0m \u001b[0mY_Be7_str_low\u001b[0m\u001b[1;33m,\u001b[0m \u001b[0meta_value_low\u001b[0m\u001b[1;33m,\u001b[0m \u001b[0mnp_str_low\u001b[0m\u001b[1;33m,\u001b[0m \u001b[0mpn_str_low\u001b[0m \u001b[1;33m=\u001b[0m \u001b[0mte\u001b[0m\u001b[1;33m.\u001b[0m\u001b[0meta_element_string_vs\u001b[0m\u001b[1;33m(\u001b[0m\u001b[1;36m1e-10\u001b[0m\u001b[1;33m,\u001b[0m \u001b[1;34m'C:/Users/kathr/Chad_Research_Neutrinos/alterbbn_v2.2/alter_vs.x'\u001b[0m\u001b[1;33m,\u001b[0m \u001b[1;34m'14.87365053664758'\u001b[0m\u001b[1;33m)\u001b[0m\u001b[1;33m\u001b[0m\u001b[1;33m\u001b[0m\u001b[0m\n",
      "\u001b[1;32m~\\Chad_Research_Neutrinos\\alterbbn_v2.2\\CuteGraphs.py\u001b[0m in \u001b[0;36meta_element_string_vs\u001b[1;34m(eta_value, run_directory, init_T)\u001b[0m\n\u001b[0;32m     95\u001b[0m         \u001b[1;31m#df['np'] = df['np\\n']\u001b[0m\u001b[1;33m\u001b[0m\u001b[1;33m\u001b[0m\u001b[1;33m\u001b[0m\u001b[0m\n\u001b[0;32m     96\u001b[0m         \u001b[0mdf\u001b[0m \u001b[1;33m=\u001b[0m \u001b[0mdf\u001b[0m\u001b[1;33m.\u001b[0m\u001b[0mreplace\u001b[0m\u001b[1;33m(\u001b[0m\u001b[1;33m{\u001b[0m\u001b[1;34m'\\n'\u001b[0m\u001b[1;33m:\u001b[0m\u001b[1;34m''\u001b[0m\u001b[1;33m}\u001b[0m\u001b[1;33m,\u001b[0m\u001b[0mregex\u001b[0m\u001b[1;33m=\u001b[0m\u001b[1;32mTrue\u001b[0m\u001b[1;33m)\u001b[0m\u001b[1;33m\u001b[0m\u001b[1;33m\u001b[0m\u001b[0m\n\u001b[1;32m---> 97\u001b[1;33m         \u001b[0mdf\u001b[0m \u001b[1;33m=\u001b[0m \u001b[0mdf\u001b[0m\u001b[1;33m.\u001b[0m\u001b[0mapply\u001b[0m\u001b[1;33m(\u001b[0m\u001b[0mpd\u001b[0m\u001b[1;33m.\u001b[0m\u001b[0mto_numeric\u001b[0m\u001b[1;33m)\u001b[0m\u001b[1;33m\u001b[0m\u001b[1;33m\u001b[0m\u001b[0m\n\u001b[0m\u001b[0;32m     98\u001b[0m         \u001b[1;31m#print(\"df print 2: {}\".format(df))\u001b[0m\u001b[1;33m\u001b[0m\u001b[1;33m\u001b[0m\u001b[1;33m\u001b[0m\u001b[0m\n\u001b[0;32m     99\u001b[0m         \u001b[1;31m#df['T (MeV)'] = df['T (MeV)'].apply(lambda x: GK_to_MeV(x))  ##for running original code and getting MeV outputs'\u001b[0m\u001b[1;33m\u001b[0m\u001b[1;33m\u001b[0m\u001b[1;33m\u001b[0m\u001b[0m\n",
      "\u001b[1;32m~\\anaconda3\\lib\\site-packages\\pandas\\core\\frame.py\u001b[0m in \u001b[0;36mapply\u001b[1;34m(self, func, axis, raw, result_type, args, **kwds)\u001b[0m\n\u001b[0;32m   6876\u001b[0m             \u001b[0mkwds\u001b[0m\u001b[1;33m=\u001b[0m\u001b[0mkwds\u001b[0m\u001b[1;33m,\u001b[0m\u001b[1;33m\u001b[0m\u001b[1;33m\u001b[0m\u001b[0m\n\u001b[0;32m   6877\u001b[0m         )\n\u001b[1;32m-> 6878\u001b[1;33m         \u001b[1;32mreturn\u001b[0m \u001b[0mop\u001b[0m\u001b[1;33m.\u001b[0m\u001b[0mget_result\u001b[0m\u001b[1;33m(\u001b[0m\u001b[1;33m)\u001b[0m\u001b[1;33m\u001b[0m\u001b[1;33m\u001b[0m\u001b[0m\n\u001b[0m\u001b[0;32m   6879\u001b[0m \u001b[1;33m\u001b[0m\u001b[0m\n\u001b[0;32m   6880\u001b[0m     \u001b[1;32mdef\u001b[0m \u001b[0mapplymap\u001b[0m\u001b[1;33m(\u001b[0m\u001b[0mself\u001b[0m\u001b[1;33m,\u001b[0m \u001b[0mfunc\u001b[0m\u001b[1;33m)\u001b[0m \u001b[1;33m->\u001b[0m \u001b[1;34m\"DataFrame\"\u001b[0m\u001b[1;33m:\u001b[0m\u001b[1;33m\u001b[0m\u001b[1;33m\u001b[0m\u001b[0m\n",
      "\u001b[1;32m~\\anaconda3\\lib\\site-packages\\pandas\\core\\apply.py\u001b[0m in \u001b[0;36mget_result\u001b[1;34m(self)\u001b[0m\n\u001b[0;32m    184\u001b[0m             \u001b[1;32mreturn\u001b[0m \u001b[0mself\u001b[0m\u001b[1;33m.\u001b[0m\u001b[0mapply_raw\u001b[0m\u001b[1;33m(\u001b[0m\u001b[1;33m)\u001b[0m\u001b[1;33m\u001b[0m\u001b[1;33m\u001b[0m\u001b[0m\n\u001b[0;32m    185\u001b[0m \u001b[1;33m\u001b[0m\u001b[0m\n\u001b[1;32m--> 186\u001b[1;33m         \u001b[1;32mreturn\u001b[0m \u001b[0mself\u001b[0m\u001b[1;33m.\u001b[0m\u001b[0mapply_standard\u001b[0m\u001b[1;33m(\u001b[0m\u001b[1;33m)\u001b[0m\u001b[1;33m\u001b[0m\u001b[1;33m\u001b[0m\u001b[0m\n\u001b[0m\u001b[0;32m    187\u001b[0m \u001b[1;33m\u001b[0m\u001b[0m\n\u001b[0;32m    188\u001b[0m     \u001b[1;32mdef\u001b[0m \u001b[0mapply_empty_result\u001b[0m\u001b[1;33m(\u001b[0m\u001b[0mself\u001b[0m\u001b[1;33m)\u001b[0m\u001b[1;33m:\u001b[0m\u001b[1;33m\u001b[0m\u001b[1;33m\u001b[0m\u001b[0m\n",
      "\u001b[1;32m~\\anaconda3\\lib\\site-packages\\pandas\\core\\apply.py\u001b[0m in \u001b[0;36mapply_standard\u001b[1;34m(self)\u001b[0m\n\u001b[0;32m    311\u001b[0m \u001b[1;33m\u001b[0m\u001b[0m\n\u001b[0;32m    312\u001b[0m         \u001b[1;31m# compute the result using the series generator\u001b[0m\u001b[1;33m\u001b[0m\u001b[1;33m\u001b[0m\u001b[1;33m\u001b[0m\u001b[0m\n\u001b[1;32m--> 313\u001b[1;33m         \u001b[0mresults\u001b[0m\u001b[1;33m,\u001b[0m \u001b[0mres_index\u001b[0m \u001b[1;33m=\u001b[0m \u001b[0mself\u001b[0m\u001b[1;33m.\u001b[0m\u001b[0mapply_series_generator\u001b[0m\u001b[1;33m(\u001b[0m\u001b[1;33m)\u001b[0m\u001b[1;33m\u001b[0m\u001b[1;33m\u001b[0m\u001b[0m\n\u001b[0m\u001b[0;32m    314\u001b[0m \u001b[1;33m\u001b[0m\u001b[0m\n\u001b[0;32m    315\u001b[0m         \u001b[1;31m# wrap results\u001b[0m\u001b[1;33m\u001b[0m\u001b[1;33m\u001b[0m\u001b[1;33m\u001b[0m\u001b[0m\n",
      "\u001b[1;32m~\\anaconda3\\lib\\site-packages\\pandas\\core\\apply.py\u001b[0m in \u001b[0;36mapply_series_generator\u001b[1;34m(self)\u001b[0m\n\u001b[0;32m    339\u001b[0m         \u001b[1;32melse\u001b[0m\u001b[1;33m:\u001b[0m\u001b[1;33m\u001b[0m\u001b[1;33m\u001b[0m\u001b[0m\n\u001b[0;32m    340\u001b[0m             \u001b[1;32mfor\u001b[0m \u001b[0mi\u001b[0m\u001b[1;33m,\u001b[0m \u001b[0mv\u001b[0m \u001b[1;32min\u001b[0m \u001b[0menumerate\u001b[0m\u001b[1;33m(\u001b[0m\u001b[0mseries_gen\u001b[0m\u001b[1;33m)\u001b[0m\u001b[1;33m:\u001b[0m\u001b[1;33m\u001b[0m\u001b[1;33m\u001b[0m\u001b[0m\n\u001b[1;32m--> 341\u001b[1;33m                 \u001b[0mresults\u001b[0m\u001b[1;33m[\u001b[0m\u001b[0mi\u001b[0m\u001b[1;33m]\u001b[0m \u001b[1;33m=\u001b[0m \u001b[0mself\u001b[0m\u001b[1;33m.\u001b[0m\u001b[0mf\u001b[0m\u001b[1;33m(\u001b[0m\u001b[0mv\u001b[0m\u001b[1;33m)\u001b[0m\u001b[1;33m\u001b[0m\u001b[1;33m\u001b[0m\u001b[0m\n\u001b[0m\u001b[0;32m    342\u001b[0m                 \u001b[0mkeys\u001b[0m\u001b[1;33m.\u001b[0m\u001b[0mappend\u001b[0m\u001b[1;33m(\u001b[0m\u001b[0mv\u001b[0m\u001b[1;33m.\u001b[0m\u001b[0mname\u001b[0m\u001b[1;33m)\u001b[0m\u001b[1;33m\u001b[0m\u001b[1;33m\u001b[0m\u001b[0m\n\u001b[0;32m    343\u001b[0m \u001b[1;33m\u001b[0m\u001b[0m\n",
      "\u001b[1;32m~\\anaconda3\\lib\\site-packages\\pandas\\core\\tools\\numeric.py\u001b[0m in \u001b[0;36mto_numeric\u001b[1;34m(arg, errors, downcast)\u001b[0m\n\u001b[0;32m    148\u001b[0m         \u001b[1;32mtry\u001b[0m\u001b[1;33m:\u001b[0m\u001b[1;33m\u001b[0m\u001b[1;33m\u001b[0m\u001b[0m\n\u001b[0;32m    149\u001b[0m             values = lib.maybe_convert_numeric(\n\u001b[1;32m--> 150\u001b[1;33m                 \u001b[0mvalues\u001b[0m\u001b[1;33m,\u001b[0m \u001b[0mset\u001b[0m\u001b[1;33m(\u001b[0m\u001b[1;33m)\u001b[0m\u001b[1;33m,\u001b[0m \u001b[0mcoerce_numeric\u001b[0m\u001b[1;33m=\u001b[0m\u001b[0mcoerce_numeric\u001b[0m\u001b[1;33m\u001b[0m\u001b[1;33m\u001b[0m\u001b[0m\n\u001b[0m\u001b[0;32m    151\u001b[0m             )\n\u001b[0;32m    152\u001b[0m         \u001b[1;32mexcept\u001b[0m \u001b[1;33m(\u001b[0m\u001b[0mValueError\u001b[0m\u001b[1;33m,\u001b[0m \u001b[0mTypeError\u001b[0m\u001b[1;33m)\u001b[0m\u001b[1;33m:\u001b[0m\u001b[1;33m\u001b[0m\u001b[1;33m\u001b[0m\u001b[0m\n",
      "\u001b[1;32mpandas\\_libs\\lib.pyx\u001b[0m in \u001b[0;36mpandas._libs.lib.maybe_convert_numeric\u001b[1;34m()\u001b[0m\n",
      "\u001b[1;31mValueError\u001b[0m: Unable to parse string \"-nan\" at position 73"
     ]
    }
   ],
   "source": [
    "temperature_str_high, temperature_nu_str_high, dqdt_str_high, rhonu_str_high, Y_n_str_high, Y_p_str_high, Y_2H_str_high, Y_4He_str_high, Y_7Li_str_high, Y_Be7_str_high, eta_value_high, np_str_high, pn_str_high = te.eta_element_string_vs(10e-10, 'C:/Users/kathr/Chad_Research_Neutrinos/alterbbn_v2.2/alter_vs.x', '14.87365053664758')\n",
    "\n",
    "temperature_str_med, temperature_nu_str_med, dqdt_str_med, rhonu_str_med, Y_n_str_med, Y_p_str_med, Y_2H_str_med, Y_4He_str_med, Y_7Li_str_med, Y_Be7_str_med, eta_value_med, np_str_med, pn_str_med = te.eta_element_string_vs(3e-10, 'C:/Users/kathr/Chad_Research_Neutrinos/alterbbn_v2.2/alter_vs.x', '14.87365053664758')\n",
    "\n",
    "temperature_str_low, temperature_nu_str_low, dqdt_str_low, rhonu_str_low, Y_n_str_low, Y_p_str_low, Y_2H_str_low, Y_4He_str_low, Y_7Li_str_low, Y_Be7_str_low, eta_value_low, np_str_low, pn_str_low = te.eta_element_string_vs(1e-10, 'C:/Users/kathr/Chad_Research_Neutrinos/alterbbn_v2.2/alter_vs.x', '14.87365053664758')\n",
    "\n",
    "te.generate_plots_eta_element_temp(temperature_str_high, Y_n_str_high, Y_p_str_high, Y_2H_str_high, Y_4He_str_high, Y_7Li_str_high, Y_Be7_str_high, eta_value_high, temperature_str_med, Y_n_str_med, Y_p_str_med, Y_2H_str_med, Y_4He_str_med, Y_7Li_str_med, Y_Be7_str_med, eta_value_med, temperature_str_low, Y_n_str_low, Y_p_str_low, Y_2H_str_low, Y_4He_str_low, Y_7Li_str_low, Y_Be7_str_low, eta_value_low)\n"
   ]
  },
  {
   "cell_type": "code",
   "execution_count": null,
   "metadata": {},
   "outputs": [],
   "source": [
    "plt.figure()\n",
    "plt.plot(temperature_str_high, dqdt_str_high, label = '$\\eta$ value is {}'.format(eta_value_high))\n",
    "plt.plot(temperature_str_med, dqdt_str_med, label = '$\\eta$ value is {}'.format(eta_value_med), linestyle = \"--\")\n",
    "plt.plot(temperature_str_low, dqdt_str_low, label = '$\\eta$ value is {}'.format(eta_value_low), linestyle = \":\")\n",
    "plt.ylabel(\"dQdt\")\n",
    "plt.xlabel(\"Temperature\")\n",
    "#plt.title(\"Hannah files\")\n",
    "plt.legend()\n",
    "#plt.savefig('dqdt.jpg')\n",
    "plt.show()\n",
    "\n",
    "plt.figure()\n",
    "plt.plot(temperature_nu_str_high, rhonu_str_high, label = '$\\eta$ value is {}'.format(eta_value_high))\n",
    "plt.plot(temperature_nu_str_med, rhonu_str_med, label = '$\\eta$ value is {}'.format(eta_value_med), linestyle = \"--\")\n",
    "plt.plot(temperature_nu_str_low, rhonu_str_low, label = '$\\eta$ value is {}'.format(eta_value_low), linestyle = \":\")\n",
    "plt.ylabel(''r'$\\rho_{\\nu}$')\n",
    "plt.xlabel(\"Temperature\")\n",
    "#plt.title(\"Hannah files\")\n",
    "plt.legend()\n",
    "#plt.savefig('rhonu.jpg')\n",
    "plt.show()\n",
    "\n",
    "t_h_pn = te.GK_to_MeV(temperature_str_high)*(10**-3)\n",
    "t_m_pn = te.GK_to_MeV(temperature_str_med)*(10**-3)\n",
    "t_l_pn = te.GK_to_MeV(temperature_str_low)*(10**-3)\n",
    "\n",
    "plt.figure()\n",
    "plt.plot(temperature_str_high, np_str_high, label = '$\\eta$ value is {}'.format(eta_value_high))\n",
    "plt.plot(temperature_str_med, np_str_med, label = '$\\eta$ value is {}'.format(eta_value_med), linestyle = \"--\")\n",
    "plt.plot(temperature_str_low, np_str_low, label = '$\\eta$ value is {}'.format(eta_value_low), linestyle = \":\")\n",
    "plt.ylabel(\"np\")\n",
    "plt.xlabel(\"Temperature\")\n",
    "#plt.title(\"Hannah files\")\n",
    "plt.legend()\n",
    "#plt.savefig('np.jpg')\n",
    "plt.show()\n",
    "\n",
    "plt.figure()\n",
    "plt.plot(temperature_str_high, pn_str_high, label = '$\\eta$ value is {}'.format(eta_value_high))\n",
    "plt.plot(temperature_str_med, pn_str_med, label = '$\\eta$ value is {}'.format(eta_value_med), linestyle = \"--\")\n",
    "plt.plot(temperature_str_low, pn_str_low, label = '$\\eta$ value is {}'.format(eta_value_low), linestyle = \":\")\n",
    "plt.ylabel('pn')\n",
    "plt.xlabel(\"Temperature\")\n",
    "#plt.title(\"Hannah files\")\n",
    "plt.legend()\n",
    "#plt.savefig('pn.jpg')\n",
    "plt.show()"
   ]
  },
  {
   "cell_type": "code",
   "execution_count": null,
   "metadata": {},
   "outputs": [],
   "source": [
    "display(Image('C:/Users/kathr/Chad_Research_Neutrinos/alterbbn_v2.2/dqdt.jpg'))\n",
    "display(Image('C:/Users/kathr/Chad_Research_Neutrinos/alterbbn_v2.2/rhonu.jpg'))\n",
    "display(Image('C:/Users/kathr/Chad_Research_Neutrinos/alterbbn_v2.2/np.jpg'))\n",
    "display(Image('C:/Users/kathr/Chad_Research_Neutrinos/alterbbn_v2.2/pn.jpg'))"
   ]
  },
  {
   "cell_type": "code",
   "execution_count": null,
   "metadata": {},
   "outputs": [],
   "source": [
    "x_n_eq_h, x_p_eq_h, x_2H_eq_h, x_4He_eq_h, x_7Li_eq_h, x_7Be_eq_h, ratio_n_high, ratio_p_high, ratio_2H_high, ratio_4He_high, ratio_7Li_high, ratio_Be7_high  = te.thermo_equal_strings(temperature_str_high, Y_p_str_high, Y_n_str_high, Y_2H_str_high, Y_4He_str_high, Y_7Li_str_high, Y_Be7_str_high, eta_value_high)\n",
    "\n",
    "x_n_eq_m, x_p_eq_m, x_2H_eq_m, x_4He_eq_m, x_7Li_eq_m, x_7Be_eq_m, ratio_n_med, ratio_p_med, ratio_2H_med, ratio_4He_med, ratio_7Li_med, ratio_Be7_med  = te.thermo_equal_strings(temperature_str_med, Y_p_str_med, Y_n_str_med, Y_2H_str_med, Y_4He_str_med, Y_7Li_str_med, Y_Be7_str_med, eta_value_med)\n",
    "\n",
    "x_n_eq_L, x_p_eq_L, x_2H_eq_L, x_4He_eq_L, x_7Li_eq_L, x_7Be_eq_L, ratio_n_low, ratio_p_low, ratio_2H_low, ratio_4He_low, ratio_7Li_low, ratio_Be7_low  = te.thermo_equal_strings(temperature_str_low, Y_p_str_low, Y_n_str_low, Y_2H_str_low, Y_4He_str_low, Y_7Li_str_low, Y_Be7_str_low, eta_value_low)\n",
    "\n",
    "te.generate_thermo_equal_plots(Y_n_str_high, Y_p_str_high, Y_2H_str_high, Y_4He_str_high, Y_7Li_str_high, Y_Be7_str_high, eta_value_high, Y_n_str_med, Y_p_str_med, Y_2H_str_med, Y_4He_str_med, Y_7Li_str_med, Y_Be7_str_med, eta_value_med, Y_n_str_low, Y_p_str_low, Y_2H_str_low, Y_4He_str_low, Y_7Li_str_low, Y_Be7_str_low, temperature_str_high, temperature_str_med, temperature_str_low, x_n_eq_h, x_p_eq_h, x_2H_eq_h, x_4He_eq_h, x_7Li_eq_h, x_7Be_eq_h, x_n_eq_m, x_p_eq_m, x_2H_eq_m, x_4He_eq_m, x_7Li_eq_m, x_7Be_eq_m, x_n_eq_L, x_p_eq_L, x_2H_eq_L, x_4He_eq_L, x_7Li_eq_L, x_7Be_eq_L)"
   ]
  },
  {
   "cell_type": "code",
   "execution_count": null,
   "metadata": {},
   "outputs": [],
   "source": [
    "te.ratio_plots(temperature_str_high, temperature_str_med, temperature_str_low, ratio_n_high, ratio_p_high, ratio_2H_high, ratio_4He_high, ratio_7Li_high, ratio_Be7_high,  ratio_n_med, ratio_p_med, ratio_2H_med, ratio_4He_med, ratio_7Li_med, ratio_Be7_med, ratio_n_low, ratio_p_low, ratio_2H_low, ratio_4He_low, ratio_7Li_low, ratio_Be7_low)"
   ]
  },
  {
   "cell_type": "code",
   "execution_count": null,
   "metadata": {},
   "outputs": [],
   "source": [
    "y_n_h, y_2h_h, y_50_2h_h, y_4he_h, y_n_m, y_2h_m, y_50_2h_m, y_4he_m = te.mass_frac_str(Y_n_str_high, Y_2H_str_high, Y_4He_str_high, Y_n_str_med, Y_2H_str_med, Y_4He_str_med)\n",
    "te.CompareHighMedMassFrac_seperate_plots(temperature_str_high, temperature_str_med, y_n_h, y_2h_h, y_50_2h_h, y_4he_h, y_n_m, y_2h_m, y_50_2h_m, y_4he_m)\n",
    "te.CompareHighMedMassFrac(temperature_str_high, temperature_str_med, y_n_h, y_2h_h, y_50_2h_h, y_4he_h, y_n_m, y_2h_m, y_50_2h_m, y_4he_m)"
   ]
  },
  {
   "cell_type": "code",
   "execution_count": null,
   "metadata": {},
   "outputs": [],
   "source": [
    "te.Li_Be_seperate_plots(temperature_str_high, temperature_str_med, temperature_str_low, Y_7Li_str_high, Y_7Li_str_med, Y_7Li_str_low, Y_Be7_str_high, Y_Be7_str_med, Y_Be7_str_low)\n",
    "te.Li_Be(temperature_str_high, temperature_str_med, temperature_str_low, Y_7Li_str_high, Y_7Li_str_med, Y_7Li_str_low, Y_Be7_str_high, Y_Be7_str_med, Y_Be7_str_low)"
   ]
  },
  {
   "cell_type": "code",
   "execution_count": null,
   "metadata": {},
   "outputs": [],
   "source": [
    "te.delete_file(\"evolution_vs.out\")\n",
    "delete_csv_files(folder)"
   ]
  },
  {
   "cell_type": "markdown",
   "metadata": {},
   "source": [
    "## alter_eta_edit"
   ]
  },
  {
   "cell_type": "code",
   "execution_count": null,
   "metadata": {},
   "outputs": [],
   "source": [
    "ev.clean_directory('C:/Users/kathr/Chad_Research_Neutrinos/alterbbn_v2.2', 'alter_eta_edit.c')"
   ]
  },
  {
   "cell_type": "code",
   "execution_count": null,
   "metadata": {},
   "outputs": [],
   "source": [
    "%time\n",
    "ev.output_plots_alter_eta(1e-10, 10e-10, 40, 'C:/Users/kathr/Chad_Research_Neutrinos/alterbbn_v2.2/alter_eta_edit.x')"
   ]
  },
  {
   "cell_type": "code",
   "execution_count": null,
   "metadata": {},
   "outputs": [],
   "source": [
    "ev.clean_directory('C:/Users/kathr/Chad_Research_Neutrinos/alterbbn_v2.2', 'alter_eta_edit.c')\n",
    "te.delete_file(\"evolution.out\") "
   ]
  },
  {
   "cell_type": "code",
   "execution_count": null,
   "metadata": {},
   "outputs": [],
   "source": [
    "temperature_str_high, Y_n_str_high, Y_p_str_high, Y_2H_str_high, Y_4He_str_high, Y_7Li_str_high, Y_Be7_str_high, eta_value_high = te.eta_element_string_e(10e-10, 'C:/Users/kathr/Chad_Research_Neutrinos/alterbbn_v2.2/alter_eta_edit.x')\n",
    "\n",
    "temperature_str_med, Y_n_str_med, Y_p_str_med, Y_2H_str_med, Y_4He_str_med, Y_7Li_str_med, Y_Be7_str_med, eta_value_med = te.eta_element_string_e(3e-10, 'C:/Users/kathr/Chad_Research_Neutrinos/alterbbn_v2.2/alter_eta_edit.x')\n",
    "\n",
    "temperature_str_low, Y_n_str_low, Y_p_str_low, Y_2H_str_low, Y_4He_str_low, Y_7Li_str_low, Y_Be7_str_low, eta_value_low = te.eta_element_string_e(1e-10, 'C:/Users/kathr/Chad_Research_Neutrinos/alterbbn_v2.2/alter_eta_edit.x')\n",
    "\n",
    "te.generate_plots_eta_element_temp(temperature_str_high, Y_n_str_high, Y_p_str_high, Y_2H_str_high, Y_4He_str_high, Y_7Li_str_high, Y_Be7_str_high, eta_value_high, temperature_str_med, Y_n_str_med, Y_p_str_med, Y_2H_str_med, Y_4He_str_med, Y_7Li_str_med, Y_Be7_str_med, eta_value_med, temperature_str_low, Y_n_str_low, Y_p_str_low, Y_2H_str_low, Y_4He_str_low, Y_7Li_str_low, Y_Be7_str_low, eta_value_low)\n",
    "\n",
    "%time"
   ]
  },
  {
   "cell_type": "code",
   "execution_count": null,
   "metadata": {},
   "outputs": [],
   "source": [
    "te.delete_file(\"evolution.out\")"
   ]
  },
  {
   "cell_type": "code",
   "execution_count": null,
   "metadata": {},
   "outputs": [],
   "source": [
    "x_n_eq_h, x_p_eq_h, x_2H_eq_h, x_4He_eq_h, x_7Li_eq_h, x_7Be_eq_h, ratio_n_high, ratio_p_high, ratio_2H_high, ratio_4He_high, ratio_7Li_high, ratio_Be7_high  = te.thermo_equal_strings(temperature_str_high, Y_p_str_high, Y_n_str_high, Y_2H_str_high, Y_4He_str_high, Y_7Li_str_high, Y_Be7_str_high, eta_value_high)\n",
    "\n",
    "x_n_eq_m, x_p_eq_m, x_2H_eq_m, x_4He_eq_m, x_7Li_eq_m, x_7Be_eq_m, ratio_n_med, ratio_p_med, ratio_2H_med, ratio_4He_med, ratio_7Li_med, ratio_Be7_med  = te.thermo_equal_strings(temperature_str_med, Y_p_str_med, Y_n_str_med, Y_2H_str_med, Y_4He_str_med, Y_7Li_str_med, Y_Be7_str_med, eta_value_med)\n",
    "\n",
    "x_n_eq_L, x_p_eq_L, x_2H_eq_L, x_4He_eq_L, x_7Li_eq_L, x_7Be_eq_L, ratio_n_low, ratio_p_low, ratio_2H_low, ratio_4He_low, ratio_7Li_low, ratio_Be7_low  = te.thermo_equal_strings(temperature_str_low, Y_p_str_low, Y_n_str_low, Y_2H_str_low, Y_4He_str_low, Y_7Li_str_low, Y_Be7_str_low, eta_value_low)\n",
    "\n",
    "te.generate_thermo_equal_plots(Y_n_str_high, Y_p_str_high, Y_2H_str_high, Y_4He_str_high, Y_7Li_str_high, Y_Be7_str_high, eta_value_high, Y_n_str_med, Y_p_str_med, Y_2H_str_med, Y_4He_str_med, Y_7Li_str_med, Y_Be7_str_med, eta_value_med, Y_n_str_low, Y_p_str_low, Y_2H_str_low, Y_4He_str_low, Y_7Li_str_low, Y_Be7_str_low, temperature_str_high, temperature_str_med, temperature_str_low, x_n_eq_h, x_p_eq_h, x_2H_eq_h, x_4He_eq_h, x_7Li_eq_h, x_7Be_eq_h, x_n_eq_m, x_p_eq_m, x_2H_eq_m, x_4He_eq_m, x_7Li_eq_m, x_7Be_eq_m, x_n_eq_L, x_p_eq_L, x_2H_eq_L, x_4He_eq_L, x_7Li_eq_L, x_7Be_eq_L)"
   ]
  },
  {
   "cell_type": "code",
   "execution_count": null,
   "metadata": {},
   "outputs": [],
   "source": [
    "te.ratio_plots(temperature_str_high, temperature_str_med, temperature_str_low, ratio_n_high, ratio_p_high, ratio_2H_high, ratio_4He_high, ratio_7Li_high, ratio_Be7_high,  ratio_n_med, ratio_p_med, ratio_2H_med, ratio_4He_med, ratio_7Li_med, ratio_Be7_med, ratio_n_low, ratio_p_low, ratio_2H_low, ratio_4He_low, ratio_7Li_low, ratio_Be7_low)"
   ]
  },
  {
   "cell_type": "code",
   "execution_count": null,
   "metadata": {},
   "outputs": [],
   "source": [
    "y_n_h, y_2h_h, y_50_2h_h, y_4he_h, y_n_m, y_2h_m, y_50_2h_m, y_4he_m = te.mass_frac_str(Y_n_str_high, Y_2H_str_high, Y_4He_str_high, Y_n_str_med, Y_2H_str_med, Y_4He_str_med)"
   ]
  },
  {
   "cell_type": "code",
   "execution_count": null,
   "metadata": {},
   "outputs": [],
   "source": [
    "te.CompareHighMedMassFrac_seperate_plots(temperature_str_high, temperature_str_med, y_n_h, y_2h_h, y_50_2h_h, y_4he_h, y_n_m, y_2h_m, y_50_2h_m, y_4he_m)\n",
    "te.CompareHighMedMassFrac(temperature_str_high, temperature_str_med, y_n_h, y_2h_h, y_50_2h_h, y_4he_h, y_n_m, y_2h_m, y_50_2h_m, y_4he_m)"
   ]
  },
  {
   "cell_type": "code",
   "execution_count": null,
   "metadata": {},
   "outputs": [],
   "source": [
    "te.Li_Be_seperate_plots(temperature_str_high, temperature_str_med, temperature_str_low, Y_7Li_str_high, Y_7Li_str_med, Y_7Li_str_low, Y_Be7_str_high, Y_Be7_str_med, Y_Be7_str_low)\n",
    "te.Li_Be(temperature_str_high, temperature_str_med, temperature_str_low, Y_7Li_str_high, Y_7Li_str_med, Y_7Li_str_low, Y_Be7_str_high, Y_Be7_str_med, Y_Be7_str_low)"
   ]
  },
  {
   "cell_type": "code",
   "execution_count": null,
   "metadata": {},
   "outputs": [],
   "source": [
    "delete_csv_files(folder)"
   ]
  },
  {
   "cell_type": "code",
   "execution_count": null,
   "metadata": {},
   "outputs": [],
   "source": []
  }
 ],
 "metadata": {
  "kernelspec": {
   "display_name": "Python 3",
   "language": "python",
   "name": "python3"
  },
  "language_info": {
   "codemirror_mode": {
    "name": "ipython",
    "version": 3
   },
   "file_extension": ".py",
   "mimetype": "text/x-python",
   "name": "python",
   "nbconvert_exporter": "python",
   "pygments_lexer": "ipython3",
   "version": "3.7.6"
  }
 },
 "nbformat": 4,
 "nbformat_minor": 4
}
